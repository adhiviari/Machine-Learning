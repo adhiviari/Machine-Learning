{
  "nbformat": 4,
  "nbformat_minor": 0,
  "metadata": {
    "colab": {
      "name": "Proyek Akhir Image Classification Model Deployment",
      "provenance": []
    },
    "kernelspec": {
      "name": "python3",
      "display_name": "Python 3"
    },
    "language_info": {
      "name": "python"
    },
    "accelerator": "GPU"
  },
  "cells": [
    {
      "cell_type": "markdown",
      "metadata": {
        "id": "yuTSErrN59Y9"
      },
      "source": [
        "Data Diri\n",
        "\n",
        "Nama: Adhi Viari Nugraha\n",
        "\n",
        "username: adhi237\n",
        "\n",
        "Email: viariadhi@gmail.ocm"
      ]
    },
    {
      "cell_type": "code",
      "metadata": {
        "id": "Edcrbkb63-VD"
      },
      "source": [
        "#importing\n",
        "import tensorflow as tf\n",
        "from tensorflow.keras.preprocessing.image import ImageDataGenerator\n",
        "from tensorflow.keras.optimizers import RMSprop\n",
        "from sklearn.model_selection import train_test_split"
      ],
      "execution_count": null,
      "outputs": []
    },
    {
      "cell_type": "code",
      "metadata": {
        "colab": {
          "base_uri": "https://localhost:8080/"
        },
        "id": "pNZH1FZa9Gv4",
        "outputId": "6a8e7368-99f1-4055-d748-d6ed2470ad47"
      },
      "source": [
        "#mengunggah dataset\n",
        "!wget --no-check-certificate \\\n",
        "  https://dicodingacademy.blob.core.windows.net/picodiploma/ml_pemula_academy/rockpaperscissors.zip \\\n",
        "  -O /tmp/rockpaperscissors.zip"
      ],
      "execution_count": null,
      "outputs": [
        {
          "output_type": "stream",
          "text": [
            "--2021-07-19 13:29:12--  https://dicodingacademy.blob.core.windows.net/picodiploma/ml_pemula_academy/rockpaperscissors.zip\n",
            "Resolving dicodingacademy.blob.core.windows.net (dicodingacademy.blob.core.windows.net)... 52.239.197.36\n",
            "Connecting to dicodingacademy.blob.core.windows.net (dicodingacademy.blob.core.windows.net)|52.239.197.36|:443... connected.\n",
            "HTTP request sent, awaiting response... 200 OK\n",
            "Length: 322873683 (308M) [application/zip]\n",
            "Saving to: ‘/tmp/rockpaperscissors.zip’\n",
            "\n",
            "/tmp/rockpapersciss 100%[===================>] 307.92M  8.76MB/s    in 48s     \n",
            "\n",
            "2021-07-19 13:30:02 (6.36 MB/s) - ‘/tmp/rockpaperscissors.zip’ saved [322873683/322873683]\n",
            "\n"
          ],
          "name": "stdout"
        }
      ]
    },
    {
      "cell_type": "code",
      "metadata": {
        "id": "l1nFfwqy9dF_"
      },
      "source": [
        "#ekstraksi pada file zip\n",
        "import zipfile,os\n",
        "local_zip = '/tmp/rockpaperscissors.zip'\n",
        "zip_ref = zipfile.ZipFile(local_zip, 'r')\n",
        "zip_ref.extractall('/tmp')\n",
        "zip_ref.close()\n",
        "\n",
        "base_dir = '/tmp/rockpaperscissors'\n",
        "\n",
        "#train directory\n",
        "train_dir = os.path.join(base_dir, 'train')\n",
        "\n",
        "#validation directory\n",
        "validation_dir = os.path.join(base_dir, 'val')"
      ],
      "execution_count": null,
      "outputs": []
    },
    {
      "cell_type": "code",
      "metadata": {
        "id": "r39QnuX09jD4"
      },
      "source": [
        "if not os.path.exists(train_dir):\n",
        "    os.mkdir(train_dir)\n",
        "if not os.path.exists(validation_dir):\n",
        "    os.mkdir(validation_dir)"
      ],
      "execution_count": null,
      "outputs": []
    },
    {
      "cell_type": "code",
      "metadata": {
        "colab": {
          "base_uri": "https://localhost:8080/"
        },
        "id": "P-jYZh4L9mmh",
        "outputId": "b2798430-0806-4f42-8ebd-ef3d00e533fd"
      },
      "source": [
        "os.listdir('/tmp/rockpaperscissors')"
      ],
      "execution_count": null,
      "outputs": [
        {
          "output_type": "execute_result",
          "data": {
            "text/plain": [
              "['train',\n",
              " 'val',\n",
              " 'scissors',\n",
              " 'rps-cv-images',\n",
              " 'rock',\n",
              " 'paper',\n",
              " 'README_rpc-cv-images.txt']"
            ]
          },
          "metadata": {
            "tags": []
          },
          "execution_count": 5
        }
      ]
    },
    {
      "cell_type": "code",
      "metadata": {
        "id": "Qa5751w19rKc"
      },
      "source": [
        "rock_dir = os.path.join('/tmp/rockpaperscissors/rock')\n",
        "paper_dir = os.path.join('/tmp/rockpaperscissors/paper')\n",
        "scissors_dir = os.path.join('/tmp/rockpaperscissors/scissors')\n",
        "\n",
        "#splitting the directory to train and validation\n",
        "train_rock_dir, val_rock_dir = train_test_split(os.listdir(rock_dir), test_size = 0.2 ) #test_size 0.4 karena validation set harus 40% dari total dataset\n",
        "train_paper_dir, val_paper_dir = train_test_split(os.listdir(paper_dir), test_size = 0.2)\n",
        "train_scissors_dir, val_scissors_dir = train_test_split(os.listdir(scissors_dir), test_size = 0.2)\n",
        "\n",
        "train_rock = os.path.join(train_dir, 'rock')\n",
        "train_paper = os.path.join(train_dir, 'paper')\n",
        "train_scissors = os.path.join(train_dir, 'scissors')\n",
        "\n",
        "val_rock = os.path.join(validation_dir, 'rock')\n",
        "val_paper = os.path.join(validation_dir, 'paper')\n",
        "val_scissors = os.path.join(validation_dir, 'scissors')"
      ],
      "execution_count": null,
      "outputs": []
    },
    {
      "cell_type": "code",
      "metadata": {
        "id": "1I3m1oX09sew"
      },
      "source": [
        "if not os.path.exists(train_rock):\n",
        "    os.mkdir(train_rock)\n",
        "if not os.path.exists(train_paper):\n",
        "    os.mkdir(train_paper)\n",
        "if not os.path.exists(train_scissors):\n",
        "    os.mkdir(train_scissors)\n",
        "\n",
        "if not os.path.exists(val_rock):\n",
        "    os.mkdir(val_rock)\n",
        "if not os.path.exists(val_paper):\n",
        "    os.mkdir(val_paper)\n",
        "if not os.path.exists(val_scissors):\n",
        "    os.mkdir(val_scissors)"
      ],
      "execution_count": null,
      "outputs": []
    },
    {
      "cell_type": "code",
      "metadata": {
        "colab": {
          "base_uri": "https://localhost:8080/"
        },
        "id": "Ula0WsP49yGC",
        "outputId": "b0a2334d-7d48-44b8-9c1d-f6cfee7f0d48"
      },
      "source": [
        "len(os.listdir('/tmp/rockpaperscissors/train'))"
      ],
      "execution_count": null,
      "outputs": [
        {
          "output_type": "execute_result",
          "data": {
            "text/plain": [
              "3"
            ]
          },
          "metadata": {
            "tags": []
          },
          "execution_count": 12
        }
      ]
    },
    {
      "cell_type": "code",
      "metadata": {
        "colab": {
          "base_uri": "https://localhost:8080/"
        },
        "id": "zZaCckSg90Bx",
        "outputId": "66d951ac-6595-4fef-bef9-6829a5d22fc8"
      },
      "source": [
        "len(os.listdir('/tmp/rockpaperscissors/train/rock'))"
      ],
      "execution_count": null,
      "outputs": [
        {
          "output_type": "execute_result",
          "data": {
            "text/plain": [
              "0"
            ]
          },
          "metadata": {
            "tags": []
          },
          "execution_count": 13
        }
      ]
    },
    {
      "cell_type": "code",
      "metadata": {
        "id": "us2Pjfvl-I5P"
      },
      "source": [
        "import shutil\n",
        "\n",
        "#copying data train\n",
        "for i in train_rock_dir:\n",
        "    shutil.copy(os.path.join(rock_dir, i), os.path.join(train_rock, i))\n",
        "for i in train_paper_dir:\n",
        "    shutil.copy(os.path.join(paper_dir, i), os.path.join(train_paper, i))\n",
        "for i in train_scissors_dir:\n",
        "    shutil.copy(os.path.join(scissors_dir, i), os.path.join(train_scissors, i))\n",
        "\n",
        "#copying data train\n",
        "for i in val_rock_dir:\n",
        "    shutil.copy(os.path.join(rock_dir, i), os.path.join(val_rock, i))\n",
        "for i in val_paper_dir:\n",
        "    shutil.copy(os.path.join(paper_dir, i), os.path.join(val_paper, i))\n",
        "for i in val_scissors_dir:\n",
        "    shutil.copy(os.path.join(scissors_dir, i), os.path.join(val_scissors, i))"
      ],
      "execution_count": null,
      "outputs": []
    },
    {
      "cell_type": "code",
      "metadata": {
        "colab": {
          "base_uri": "https://localhost:8080/"
        },
        "id": "8uT1LBP--Mjk",
        "outputId": "84e104e9-cff7-4587-e6e8-c4de88ba68d0"
      },
      "source": [
        "len(os.listdir('/tmp/rockpaperscissors/train/rock'))"
      ],
      "execution_count": null,
      "outputs": [
        {
          "output_type": "execute_result",
          "data": {
            "text/plain": [
              "580"
            ]
          },
          "metadata": {
            "tags": []
          },
          "execution_count": 15
        }
      ]
    },
    {
      "cell_type": "code",
      "metadata": {
        "colab": {
          "base_uri": "https://localhost:8080/"
        },
        "id": "F_mtuGSt-WoQ",
        "outputId": "d146ceff-f094-44f1-fe6e-a26608eb3956"
      },
      "source": [
        "len(os.listdir('/tmp/rockpaperscissors/val/rock'))"
      ],
      "execution_count": null,
      "outputs": [
        {
          "output_type": "execute_result",
          "data": {
            "text/plain": [
              "146"
            ]
          },
          "metadata": {
            "tags": []
          },
          "execution_count": 16
        }
      ]
    },
    {
      "cell_type": "code",
      "metadata": {
        "colab": {
          "base_uri": "https://localhost:8080/"
        },
        "id": "uXlb9Uho-iNc",
        "outputId": "ed6a4546-3418-482f-8c14-fb6b21c4c86c"
      },
      "source": [
        "len(os.listdir('/tmp/rockpaperscissors/train/paper'))"
      ],
      "execution_count": null,
      "outputs": [
        {
          "output_type": "execute_result",
          "data": {
            "text/plain": [
              "569"
            ]
          },
          "metadata": {
            "tags": []
          },
          "execution_count": 17
        }
      ]
    },
    {
      "cell_type": "code",
      "metadata": {
        "colab": {
          "base_uri": "https://localhost:8080/"
        },
        "id": "r-v2JEon-mAY",
        "outputId": "797aa618-1355-434c-9ba2-a7edac168999"
      },
      "source": [
        "len(os.listdir('/tmp/rockpaperscissors/val/paper'))"
      ],
      "execution_count": null,
      "outputs": [
        {
          "output_type": "execute_result",
          "data": {
            "text/plain": [
              "143"
            ]
          },
          "metadata": {
            "tags": []
          },
          "execution_count": 19
        }
      ]
    },
    {
      "cell_type": "code",
      "metadata": {
        "colab": {
          "base_uri": "https://localhost:8080/"
        },
        "id": "nT1QP0Ff-puW",
        "outputId": "76bf67c7-83f1-4d60-931f-712fcb5bfe03"
      },
      "source": [
        "len(os.listdir('/tmp/rockpaperscissors/train/scissors'))"
      ],
      "execution_count": null,
      "outputs": [
        {
          "output_type": "execute_result",
          "data": {
            "text/plain": [
              "600"
            ]
          },
          "metadata": {
            "tags": []
          },
          "execution_count": 20
        }
      ]
    },
    {
      "cell_type": "code",
      "metadata": {
        "colab": {
          "base_uri": "https://localhost:8080/"
        },
        "id": "hB6IlQ6B-yUP",
        "outputId": "61edb620-b7d6-45a9-ff9b-7b24bbf17973"
      },
      "source": [
        "len(os.listdir('/tmp/rockpaperscissors/val/scissors'))"
      ],
      "execution_count": null,
      "outputs": [
        {
          "output_type": "execute_result",
          "data": {
            "text/plain": [
              "150"
            ]
          },
          "metadata": {
            "tags": []
          },
          "execution_count": 21
        }
      ]
    },
    {
      "cell_type": "markdown",
      "metadata": {
        "id": "ICZtqDg0-9mY"
      },
      "source": [
        "Train Set sudah 80% dan test/validation set sudah 20%"
      ]
    },
    {
      "cell_type": "code",
      "metadata": {
        "id": "b2EBk-2c_DJK"
      },
      "source": [
        "#Image Data Generator\n",
        "train_datagen = ImageDataGenerator(\n",
        "    rescale = 1./255,\n",
        "    rotation_range = 20,\n",
        "    horizontal_flip = True,\n",
        "    shear_range = 0.2,\n",
        "    fill_mode = 'wrap', #menggunakan wrap \n",
        ")\n",
        "test_datagen = ImageDataGenerator(\n",
        "    rescale = 1./255,\n",
        "    rotation_range = 20,\n",
        "    horizontal_flip = True,\n",
        "    shear_range = 0.2,\n",
        "    fill_mode = 'wrap', #menggunakan wrap\n",
        ")"
      ],
      "execution_count": null,
      "outputs": []
    },
    {
      "cell_type": "code",
      "metadata": {
        "colab": {
          "base_uri": "https://localhost:8080/"
        },
        "id": "Loep63HX_LBp",
        "outputId": "9751f4de-82fb-4750-b954-31fcd0a48caf"
      },
      "source": [
        "train_generator = train_datagen.flow_from_directory(\n",
        "        train_dir,\n",
        "        target_size=(150,150),\n",
        "        batch_size=32,\n",
        "        class_mode='categorical',\n",
        "        shuffle=True\n",
        "        )\n",
        "\n",
        "validation_generator = train_datagen.flow_from_directory(\n",
        "        validation_dir,\n",
        "        target_size=(150,150),\n",
        "        batch_size=32,\n",
        "        class_mode='categorical'\n",
        "        )"
      ],
      "execution_count": null,
      "outputs": [
        {
          "output_type": "stream",
          "text": [
            "Found 1749 images belonging to 3 classes.\n",
            "Found 439 images belonging to 3 classes.\n"
          ],
          "name": "stdout"
        }
      ]
    },
    {
      "cell_type": "code",
      "metadata": {
        "id": "b5cSsklx_iO9"
      },
      "source": [
        "model = tf.keras.models.Sequential([\n",
        "    tf.keras.layers.Conv2D(16, (3,3), activation='relu', input_shape=(150, 150, 3)),\n",
        "    tf.keras.layers.MaxPooling2D(2, 2),\n",
        "    tf.keras.layers.Conv2D(32, (3,3), activation='relu'),\n",
        "    tf.keras.layers.MaxPooling2D(2,2),\n",
        "    tf.keras.layers.Conv2D(64, (3,3), activation='relu'),\n",
        "    tf.keras.layers.MaxPooling2D(2,2),\n",
        "    tf.keras.layers.Conv2D(128, (3,3), activation='relu'),\n",
        "    tf.keras.layers.MaxPooling2D(2,2),\n",
        "    tf.keras.layers.Flatten(),\n",
        "    tf.keras.layers.Dropout(0.5),\n",
        "    tf.keras.layers.Dense(512, activation='relu'),\n",
        "    tf.keras.layers.Dense(3, activation='softmax') #using softmax because its multiclass\n",
        "])"
      ],
      "execution_count": null,
      "outputs": []
    },
    {
      "cell_type": "code",
      "metadata": {
        "id": "gKyZuAe7_06N"
      },
      "source": [
        "#compile model dengan 'adam' optimizer loss function 'categorical_crossentropy'\n",
        "model.compile(loss='categorical_crossentropy',\n",
        "              optimizer='Adam',\n",
        "              metrics=['accuracy'])"
      ],
      "execution_count": null,
      "outputs": []
    },
    {
      "cell_type": "code",
      "metadata": {
        "id": "QDe8sjbUAcis"
      },
      "source": [
        "class myCallback(tf.keras.callbacks.Callback):\n",
        "  def on_epoch_end(self, epoch, logs={}):\n",
        "    if(logs.get('accuracy')>0.92 and logs.get('val_accuracy')>0.92):\n",
        "      print(\"\\nAccuracy above 92%, finish training!\")\n",
        "      self.model.stop_training = True\n",
        "\n",
        "callbacks = myCallback()"
      ],
      "execution_count": null,
      "outputs": []
    },
    {
      "cell_type": "code",
      "metadata": {
        "colab": {
          "base_uri": "https://localhost:8080/"
        },
        "id": "5f6whav4BjUF",
        "outputId": "7e1dce8f-cead-40d2-a712-c43f088e3b1a"
      },
      "source": [
        "#latih model dengan model.fit\n",
        "history = model.fit(\n",
        "    train_generator,\n",
        "    steps_per_epoch=25,\n",
        "    epochs=20,\n",
        "    validation_data=validation_generator,\n",
        "    validation_steps=5,\n",
        "    verbose=2,\n",
        "    callbacks = [callbacks]\n",
        ")"
      ],
      "execution_count": null,
      "outputs": [
        {
          "output_type": "stream",
          "text": [
            "Epoch 1/20\n",
            "25/25 - 38s - loss: 1.0907 - accuracy: 0.3866 - val_loss: 0.9462 - val_accuracy: 0.5437\n",
            "Epoch 2/20\n",
            "25/25 - 7s - loss: 0.9137 - accuracy: 0.6263 - val_loss: 0.6835 - val_accuracy: 0.8125\n",
            "Epoch 3/20\n",
            "25/25 - 7s - loss: 0.5116 - accuracy: 0.8340 - val_loss: 0.2943 - val_accuracy: 0.8938\n",
            "Epoch 4/20\n",
            "25/25 - 6s - loss: 0.2457 - accuracy: 0.9113 - val_loss: 0.2641 - val_accuracy: 0.9312\n",
            "Epoch 5/20\n",
            "25/25 - 6s - loss: 0.2473 - accuracy: 0.9212 - val_loss: 0.2435 - val_accuracy: 0.9375\n",
            "\n",
            "Accuracy above 92%, finish training!\n"
          ],
          "name": "stdout"
        }
      ]
    },
    {
      "cell_type": "code",
      "metadata": {
        "colab": {
          "base_uri": "https://localhost:8080/",
          "height": 295
        },
        "id": "pFh8xf6GCvnR",
        "outputId": "58741deb-272f-477d-a86c-7a8dd5e98f92"
      },
      "source": [
        "import matplotlib.pyplot as plt\n",
        "plt.plot(history.history['accuracy'])\n",
        "plt.plot(history.history['val_accuracy'])\n",
        "plt.title('Accuracy')\n",
        "plt.ylabel('accuracy')\n",
        "plt.xlabel('epoch')\n",
        "plt.legend(['train', 'val'], loc='lower right')\n",
        "plt.show()"
      ],
      "execution_count": null,
      "outputs": [
        {
          "output_type": "display_data",
          "data": {
            "image/png": "[encoded data removed]",
            "text/plain": [
              "<Figure size 432x288 with 1 Axes>"
            ]
          },
          "metadata": {
            "tags": [],
            "needs_background": "light"
          }
        }
      ]
    },
    {
      "cell_type": "code",
      "metadata": {
        "colab": {
          "base_uri": "https://localhost:8080/",
          "height": 295
        },
        "id": "Tt5CYEC6DPCz",
        "outputId": "42be9307-fa9f-4df9-9023-d1e28b1fc067"
      },
      "source": [
        "plt.plot(history.history['loss'])\n",
        "plt.plot(history.history['val_loss'])\n",
        "plt.title('Loss')\n",
        "plt.ylabel('loss')\n",
        "plt.xlabel('epoch')\n",
        "plt.legend(['train', 'val'], loc='upper right')\n",
        "plt.show()"
      ],
      "execution_count": null,
      "outputs": [
        {
          "output_type": "display_data",
          "data": {
            "image/png": "[encoded data removed]",
            "text/plain": [
              "<Figure size 432x288 with 1 Axes>"
            ]
          },
          "metadata": {
            "tags": [],
            "needs_background": "light"
          }
        }
      ]
    },
    {
      "cell_type": "code",
      "metadata": {
        "colab": {
          "base_uri": "https://localhost:8080/"
        },
        "id": "9PGGg742DXAm",
        "outputId": "6e532e20-7c01-4bec-fc9a-2a62293d52ad"
      },
      "source": [
        "# Konversi model.\n",
        "converter = tf.lite.TFLiteConverter.from_keras_model(model)\n",
        "tflite_model = converter.convert()"
      ],
      "execution_count": null,
      "outputs": [
        {
          "output_type": "stream",
          "text": [
            "INFO:tensorflow:Assets written to: /tmp/tmplwo_gvtf/assets\n"
          ],
          "name": "stdout"
        }
      ]
    },
    {
      "cell_type": "code",
      "metadata": {
        "id": "1bFQzYaLDeuv"
      },
      "source": [
        "with tf.io.gfile.GFile('model.tflite', 'wb') as f:\n",
        "  f.write(tflite_model)"
      ],
      "execution_count": null,
      "outputs": []
    },
    {
      "cell_type": "code",
      "metadata": {
        "colab": {
          "base_uri": "https://localhost:8080/"
        },
        "id": "IBn44HPEEFLW",
        "outputId": "2258f262-05bf-47d5-97a5-9b41f8518a75"
      },
      "source": [
        "#menyimpan as hdf5 file\n",
        "model.save('my_model.pb')\n",
        "%cd"
      ],
      "execution_count": null,
      "outputs": [
        {
          "output_type": "stream",
          "text": [
            "INFO:tensorflow:Assets written to: my_model.pb/assets\n"
          ],
          "name": "stdout"
        },
        {
          "output_type": "stream",
          "text": [
            "INFO:tensorflow:Assets written to: my_model.pb/assets\n"
          ],
          "name": "stderr"
        },
        {
          "output_type": "stream",
          "text": [
            "/root\n"
          ],
          "name": "stdout"
        }
      ]
    }
  ]
}
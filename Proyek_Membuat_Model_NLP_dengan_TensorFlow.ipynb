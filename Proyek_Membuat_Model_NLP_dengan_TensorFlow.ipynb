{
  "nbformat": 4,
  "nbformat_minor": 0,
  "metadata": {
    "colab": {
      "name": "Proyek Pertama: Membuat Model NLP dengan TensorFlow",
      "provenance": []
    },
    "kernelspec": {
      "name": "python3",
      "display_name": "Python 3"
    },
    "language_info": {
      "name": "python"
    },
    "accelerator": "GPU"
  },
  "cells": [
    {
      "cell_type": "markdown",
      "metadata": {
        "id": "T9XILNAuPjuc"
      },
      "source": [
        "Nama: Adhi VIari Nugraha\n",
        "\n",
        "username: adhi237\n",
        "\n",
        "Email: viariadhi@gmail.com\n",
        "\n",
        "\n"
      ]
    },
    {
      "cell_type": "code",
      "metadata": {
        "colab": {
          "base_uri": "https://localhost:8080/"
        },
        "id": "MhV2Ea0gaizh",
        "outputId": "6c6df576-1d76-4890-d416-2a7c9eb0e71b"
      },
      "source": [
        "#unzipping dataset\n",
        "!mkdir bbcnewsarchive\n",
        "!unzip archive\\ \\(8\\).zip -d bbcnewsarchive\n",
        "!ls bbcnewsarchive"
      ],
      "execution_count": null,
      "outputs": [
        {
          "output_type": "stream",
          "text": [
            "Archive:  archive (8).zip\n",
            "  inflating: bbcnewsarchive/bbc-news-data.csv  \n",
            "bbc-news-data.csv\n"
          ],
          "name": "stdout"
        }
      ]
    },
    {
      "cell_type": "markdown",
      "metadata": {
        "id": "7MPBPvGLb4Wx"
      },
      "source": [
        "Memasukan Dataset"
      ]
    },
    {
      "cell_type": "code",
      "metadata": {
        "colab": {
          "base_uri": "https://localhost:8080/",
          "height": 191
        },
        "id": "TBJ3KVCQb3Wb",
        "outputId": "8d5acc9a-a25e-4781-9ec0-052777b3060e"
      },
      "source": [
        "#import pandas\n",
        "import pandas as pd\n",
        "\n",
        "df = pd.read_csv('bbcnewsarchive/bbc-news-data.csv', sep='\\t')\n",
        "df.head(5)"
      ],
      "execution_count": null,
      "outputs": [
        {
          "output_type": "execute_result",
          "data": {
            "text/html": [
              "<div>\n",
              "<style scoped>\n",
              "    .dataframe tbody tr th:only-of-type {\n",
              "        vertical-align: middle;\n",
              "    }\n",
              "\n",
              "    .dataframe tbody tr th {\n",
              "        vertical-align: top;\n",
              "    }\n",
              "\n",
              "    .dataframe thead th {\n",
              "        text-align: right;\n",
              "    }\n",
              "</style>\n",
              "<table border=\"1\" class=\"dataframe\">\n",
              "  <thead>\n",
              "    <tr style=\"text-align: right;\">\n",
              "      <th></th>\n",
              "      <th>category</th>\n",
              "      <th>filename</th>\n",
              "      <th>title</th>\n",
              "      <th>content</th>\n",
              "    </tr>\n",
              "  </thead>\n",
              "  <tbody>\n",
              "    <tr>\n",
              "      <th>0</th>\n",
              "      <td>business</td>\n",
              "      <td>001.txt</td>\n",
              "      <td>Ad sales boost Time Warner profit</td>\n",
              "      <td>Quarterly profits at US media giant TimeWarne...</td>\n",
              "    </tr>\n",
              "    <tr>\n",
              "      <th>1</th>\n",
              "      <td>business</td>\n",
              "      <td>002.txt</td>\n",
              "      <td>Dollar gains on Greenspan speech</td>\n",
              "      <td>The dollar has hit its highest level against ...</td>\n",
              "    </tr>\n",
              "    <tr>\n",
              "      <th>2</th>\n",
              "      <td>business</td>\n",
              "      <td>003.txt</td>\n",
              "      <td>Yukos unit buyer faces loan claim</td>\n",
              "      <td>The owners of embattled Russian oil giant Yuk...</td>\n",
              "    </tr>\n",
              "    <tr>\n",
              "      <th>3</th>\n",
              "      <td>business</td>\n",
              "      <td>004.txt</td>\n",
              "      <td>High fuel prices hit BA's profits</td>\n",
              "      <td>British Airways has blamed high fuel prices f...</td>\n",
              "    </tr>\n",
              "    <tr>\n",
              "      <th>4</th>\n",
              "      <td>business</td>\n",
              "      <td>005.txt</td>\n",
              "      <td>Pernod takeover talk lifts Domecq</td>\n",
              "      <td>Shares in UK drinks and food firm Allied Dome...</td>\n",
              "    </tr>\n",
              "  </tbody>\n",
              "</table>\n",
              "</div>"
            ],
            "text/plain": [
              "   category  ...                                            content\n",
              "0  business  ...   Quarterly profits at US media giant TimeWarne...\n",
              "1  business  ...   The dollar has hit its highest level against ...\n",
              "2  business  ...   The owners of embattled Russian oil giant Yuk...\n",
              "3  business  ...   British Airways has blamed high fuel prices f...\n",
              "4  business  ...   Shares in UK drinks and food firm Allied Dome...\n",
              "\n",
              "[5 rows x 4 columns]"
            ]
          },
          "metadata": {
            "tags": []
          },
          "execution_count": 2
        }
      ]
    },
    {
      "cell_type": "code",
      "metadata": {
        "colab": {
          "base_uri": "https://localhost:8080/"
        },
        "id": "pzbe_Ca1cQXF",
        "outputId": "e0cbe4e9-77c8-4f7a-f037-e1a7764aa610"
      },
      "source": [
        "#data total\n",
        "df.shape"
      ],
      "execution_count": null,
      "outputs": [
        {
          "output_type": "execute_result",
          "data": {
            "text/plain": [
              "(2225, 4)"
            ]
          },
          "metadata": {
            "tags": []
          },
          "execution_count": 3
        }
      ]
    },
    {
      "cell_type": "code",
      "metadata": {
        "colab": {
          "base_uri": "https://localhost:8080/"
        },
        "id": "d5JC_nJhcTKi",
        "outputId": "2baaaa9b-9fee-41ec-f7c3-b2bd415ffa3c"
      },
      "source": [
        "df.info()"
      ],
      "execution_count": null,
      "outputs": [
        {
          "output_type": "stream",
          "text": [
            "<class 'pandas.core.frame.DataFrame'>\n",
            "RangeIndex: 2225 entries, 0 to 2224\n",
            "Data columns (total 4 columns):\n",
            " #   Column    Non-Null Count  Dtype \n",
            "---  ------    --------------  ----- \n",
            " 0   category  2225 non-null   object\n",
            " 1   filename  2225 non-null   object\n",
            " 2   title     2225 non-null   object\n",
            " 3   content   2225 non-null   object\n",
            "dtypes: object(4)\n",
            "memory usage: 69.7+ KB\n"
          ],
          "name": "stdout"
        }
      ]
    },
    {
      "cell_type": "code",
      "metadata": {
        "colab": {
          "base_uri": "https://localhost:8080/"
        },
        "id": "YErvnCdvcfn1",
        "outputId": "c9df2b27-7dcc-483f-8739-df47ef777bce"
      },
      "source": [
        "#melihat value per categories\n",
        "df.category.value_counts()"
      ],
      "execution_count": null,
      "outputs": [
        {
          "output_type": "execute_result",
          "data": {
            "text/plain": [
              "sport            511\n",
              "business         510\n",
              "politics         417\n",
              "tech             401\n",
              "entertainment    386\n",
              "Name: category, dtype: int64"
            ]
          },
          "metadata": {
            "tags": []
          },
          "execution_count": 5
        }
      ]
    },
    {
      "cell_type": "code",
      "metadata": {
        "colab": {
          "base_uri": "https://localhost:8080/",
          "height": 391
        },
        "id": "RLTUmDrzcnHP",
        "outputId": "b194a916-52f6-404d-aaf0-71698733acf0"
      },
      "source": [
        "#menghilangkan kolom yang tidak digunakan\n",
        "df_baru = df.drop(columns=['filename'])\n",
        "df_baru"
      ],
      "execution_count": null,
      "outputs": [
        {
          "output_type": "execute_result",
          "data": {
            "text/html": [
              "<div>\n",
              "<style scoped>\n",
              "    .dataframe tbody tr th:only-of-type {\n",
              "        vertical-align: middle;\n",
              "    }\n",
              "\n",
              "    .dataframe tbody tr th {\n",
              "        vertical-align: top;\n",
              "    }\n",
              "\n",
              "    .dataframe thead th {\n",
              "        text-align: right;\n",
              "    }\n",
              "</style>\n",
              "<table border=\"1\" class=\"dataframe\">\n",
              "  <thead>\n",
              "    <tr style=\"text-align: right;\">\n",
              "      <th></th>\n",
              "      <th>category</th>\n",
              "      <th>title</th>\n",
              "      <th>content</th>\n",
              "    </tr>\n",
              "  </thead>\n",
              "  <tbody>\n",
              "    <tr>\n",
              "      <th>0</th>\n",
              "      <td>business</td>\n",
              "      <td>Ad sales boost Time Warner profit</td>\n",
              "      <td>Quarterly profits at US media giant TimeWarne...</td>\n",
              "    </tr>\n",
              "    <tr>\n",
              "      <th>1</th>\n",
              "      <td>business</td>\n",
              "      <td>Dollar gains on Greenspan speech</td>\n",
              "      <td>The dollar has hit its highest level against ...</td>\n",
              "    </tr>\n",
              "    <tr>\n",
              "      <th>2</th>\n",
              "      <td>business</td>\n",
              "      <td>Yukos unit buyer faces loan claim</td>\n",
              "      <td>The owners of embattled Russian oil giant Yuk...</td>\n",
              "    </tr>\n",
              "    <tr>\n",
              "      <th>3</th>\n",
              "      <td>business</td>\n",
              "      <td>High fuel prices hit BA's profits</td>\n",
              "      <td>British Airways has blamed high fuel prices f...</td>\n",
              "    </tr>\n",
              "    <tr>\n",
              "      <th>4</th>\n",
              "      <td>business</td>\n",
              "      <td>Pernod takeover talk lifts Domecq</td>\n",
              "      <td>Shares in UK drinks and food firm Allied Dome...</td>\n",
              "    </tr>\n",
              "    <tr>\n",
              "      <th>...</th>\n",
              "      <td>...</td>\n",
              "      <td>...</td>\n",
              "      <td>...</td>\n",
              "    </tr>\n",
              "    <tr>\n",
              "      <th>2220</th>\n",
              "      <td>tech</td>\n",
              "      <td>BT program to beat dialler scams</td>\n",
              "      <td>BT is introducing two initiatives to help bea...</td>\n",
              "    </tr>\n",
              "    <tr>\n",
              "      <th>2221</th>\n",
              "      <td>tech</td>\n",
              "      <td>Spam e-mails tempt net shoppers</td>\n",
              "      <td>Computer users across the world continue to i...</td>\n",
              "    </tr>\n",
              "    <tr>\n",
              "      <th>2222</th>\n",
              "      <td>tech</td>\n",
              "      <td>Be careful how you code</td>\n",
              "      <td>A new European directive could put software w...</td>\n",
              "    </tr>\n",
              "    <tr>\n",
              "      <th>2223</th>\n",
              "      <td>tech</td>\n",
              "      <td>US cyber security chief resigns</td>\n",
              "      <td>The man making sure US computer networks are ...</td>\n",
              "    </tr>\n",
              "    <tr>\n",
              "      <th>2224</th>\n",
              "      <td>tech</td>\n",
              "      <td>Losing yourself in online gaming</td>\n",
              "      <td>Online role playing games are time-consuming,...</td>\n",
              "    </tr>\n",
              "  </tbody>\n",
              "</table>\n",
              "<p>2225 rows × 3 columns</p>\n",
              "</div>"
            ],
            "text/plain": [
              "      category  ...                                            content\n",
              "0     business  ...   Quarterly profits at US media giant TimeWarne...\n",
              "1     business  ...   The dollar has hit its highest level against ...\n",
              "2     business  ...   The owners of embattled Russian oil giant Yuk...\n",
              "3     business  ...   British Airways has blamed high fuel prices f...\n",
              "4     business  ...   Shares in UK drinks and food firm Allied Dome...\n",
              "...        ...  ...                                                ...\n",
              "2220      tech  ...   BT is introducing two initiatives to help bea...\n",
              "2221      tech  ...   Computer users across the world continue to i...\n",
              "2222      tech  ...   A new European directive could put software w...\n",
              "2223      tech  ...   The man making sure US computer networks are ...\n",
              "2224      tech  ...   Online role playing games are time-consuming,...\n",
              "\n",
              "[2225 rows x 3 columns]"
            ]
          },
          "metadata": {
            "tags": []
          },
          "execution_count": 6
        }
      ]
    },
    {
      "cell_type": "markdown",
      "metadata": {
        "id": "FN7VdwvUc6Ax"
      },
      "source": [
        "Membersihkan Data"
      ]
    },
    {
      "cell_type": "code",
      "metadata": {
        "id": "DmooO37Ec2ws"
      },
      "source": [
        "#importing\n",
        "import tensorflow as tf"
      ],
      "execution_count": null,
      "outputs": []
    },
    {
      "cell_type": "code",
      "metadata": {
        "colab": {
          "base_uri": "https://localhost:8080/"
        },
        "id": "Ti47czOienY6",
        "outputId": "8ea05197-8aeb-4bc4-e2da-9dba475983d1"
      },
      "source": [
        "import nltk, os, re, string\n",
        "\n",
        "from keras.layers import Input, LSTM, Bidirectional, SpatialDropout1D, Dropout, Flatten, Dense, Embedding, BatchNormalization\n",
        "from keras.models import Model\n",
        "from keras.callbacks import EarlyStopping\n",
        "from keras.preprocessing.text import Tokenizer, text_to_word_sequence\n",
        "from keras.preprocessing.sequence import pad_sequences\n",
        "from tensorflow.keras.utils import to_categorical\n",
        "\n",
        "from nltk.corpus import stopwords\n",
        "from nltk.stem import WordNetLemmatizer\n",
        "from nltk.corpus import wordnet as wn\n",
        "\n",
        "nltk.download('wordnet')\n",
        "nltk.download('stopwords')"
      ],
      "execution_count": null,
      "outputs": [
        {
          "output_type": "stream",
          "text": [
            "[nltk_data] Downloading package wordnet to /root/nltk_data...\n",
            "[nltk_data]   Unzipping corpora/wordnet.zip.\n",
            "[nltk_data] Downloading package stopwords to /root/nltk_data...\n",
            "[nltk_data]   Unzipping corpora/stopwords.zip.\n"
          ],
          "name": "stdout"
        },
        {
          "output_type": "execute_result",
          "data": {
            "text/plain": [
              "True"
            ]
          },
          "metadata": {
            "tags": []
          },
          "execution_count": 8
        }
      ]
    },
    {
      "cell_type": "code",
      "metadata": {
        "id": "Uxn1CG4kfMO3"
      },
      "source": [
        "#membuat semua karakter pada data menjadi lowercase\n",
        "df_baru.title = df_baru.title.apply(lambda x: x.lower())\n",
        "df_baru.content = df_baru.content.apply(lambda x: x.lower())\n",
        "\n",
        "#menghilangkan punctuation\n",
        "def cleaner(data):\n",
        "    return(data.translate(str.maketrans('','', string.punctuation)))\n",
        "    df_baru.title = df_baru.title.apply(lambda x: cleaner(x))\n",
        "    df_new.content = df_new.content.apply(lambda x: lem(X))\n",
        "\n",
        "#lemmatization\n",
        "lemmatizer = WordNetLemmatizer\n",
        "\n",
        "def lem(data):\n",
        "  pos_dict = {'N': wn.NOUN, 'V': wn.VERB, 'J': wn.ADJ,'R': wn.ADV}\n",
        "  return(' '.join([lemmatizer.lemmatize(w,pos_dict.get(t, wn.NOUN)) for w,t in nltk.pos_tag(data.split())]))\n",
        "  df_baru.title = df_baru.title.apply(lambda x: lem(x))\n",
        "  df_baru.content = df_baru.content.apply(lambda x: lem(x))\n",
        "\n",
        "#menghilangkan number\n",
        "def rem_numbers(data):\n",
        "  return re.sub('[0-9]+','',data)\n",
        "  df_baru['title'].apply(rem_numbers)\n",
        "  df_baru['content'].apply(rem_numbers)\n",
        "\n",
        "#menghilangkan stopword\n",
        "st_words = stopwords.words()\n",
        "def stopword(data):\n",
        "  return(' '.join([w for w in data.split() if w not in st_words ]))\n",
        "  df_baru.title = df_new.title.apply(lambda x: stopword(X))\n",
        "  df_baru.content = df_baru.content.apply(lambda x: lem(x))"
      ],
      "execution_count": null,
      "outputs": []
    },
    {
      "cell_type": "code",
      "metadata": {
        "colab": {
          "base_uri": "https://localhost:8080/",
          "height": 191
        },
        "id": "RaFrIEb4iL4U",
        "outputId": "c9faf4fc-8aa7-4701-9f02-7f3a747c0ec8"
      },
      "source": [
        "df_baru.head(5)"
      ],
      "execution_count": null,
      "outputs": [
        {
          "output_type": "execute_result",
          "data": {
            "text/html": [
              "<div>\n",
              "<style scoped>\n",
              "    .dataframe tbody tr th:only-of-type {\n",
              "        vertical-align: middle;\n",
              "    }\n",
              "\n",
              "    .dataframe tbody tr th {\n",
              "        vertical-align: top;\n",
              "    }\n",
              "\n",
              "    .dataframe thead th {\n",
              "        text-align: right;\n",
              "    }\n",
              "</style>\n",
              "<table border=\"1\" class=\"dataframe\">\n",
              "  <thead>\n",
              "    <tr style=\"text-align: right;\">\n",
              "      <th></th>\n",
              "      <th>category</th>\n",
              "      <th>title</th>\n",
              "      <th>content</th>\n",
              "    </tr>\n",
              "  </thead>\n",
              "  <tbody>\n",
              "    <tr>\n",
              "      <th>0</th>\n",
              "      <td>business</td>\n",
              "      <td>ad sales boost time warner profit</td>\n",
              "      <td>quarterly profits at us media giant timewarne...</td>\n",
              "    </tr>\n",
              "    <tr>\n",
              "      <th>1</th>\n",
              "      <td>business</td>\n",
              "      <td>dollar gains on greenspan speech</td>\n",
              "      <td>the dollar has hit its highest level against ...</td>\n",
              "    </tr>\n",
              "    <tr>\n",
              "      <th>2</th>\n",
              "      <td>business</td>\n",
              "      <td>yukos unit buyer faces loan claim</td>\n",
              "      <td>the owners of embattled russian oil giant yuk...</td>\n",
              "    </tr>\n",
              "    <tr>\n",
              "      <th>3</th>\n",
              "      <td>business</td>\n",
              "      <td>high fuel prices hit ba's profits</td>\n",
              "      <td>british airways has blamed high fuel prices f...</td>\n",
              "    </tr>\n",
              "    <tr>\n",
              "      <th>4</th>\n",
              "      <td>business</td>\n",
              "      <td>pernod takeover talk lifts domecq</td>\n",
              "      <td>shares in uk drinks and food firm allied dome...</td>\n",
              "    </tr>\n",
              "  </tbody>\n",
              "</table>\n",
              "</div>"
            ],
            "text/plain": [
              "   category  ...                                            content\n",
              "0  business  ...   quarterly profits at us media giant timewarne...\n",
              "1  business  ...   the dollar has hit its highest level against ...\n",
              "2  business  ...   the owners of embattled russian oil giant yuk...\n",
              "3  business  ...   british airways has blamed high fuel prices f...\n",
              "4  business  ...   shares in uk drinks and food firm allied dome...\n",
              "\n",
              "[5 rows x 3 columns]"
            ]
          },
          "metadata": {
            "tags": []
          },
          "execution_count": 10
        }
      ]
    },
    {
      "cell_type": "markdown",
      "metadata": {
        "id": "jWvH_tn2jDHm"
      },
      "source": [
        "Membuat Model"
      ]
    },
    {
      "cell_type": "code",
      "metadata": {
        "colab": {
          "base_uri": "https://localhost:8080/",
          "height": 1000
        },
        "id": "zbgdupAdiQwU",
        "outputId": "910d1194-8dd5-43d3-eeb5-8bfff26968c2"
      },
      "source": [
        "#one hot encoding data category\n",
        "category = pd.get_dummies(df_baru.category)\n",
        "df_baru_cat = pd.concat([df_baru, category], axis=1)\n",
        "df_baru_cat = df_baru_cat.drop(columns='category')\n",
        "df_baru_cat.head(30)"
      ],
      "execution_count": null,
      "outputs": [
        {
          "output_type": "execute_result",
          "data": {
            "text/html": [
              "<div>\n",
              "<style scoped>\n",
              "    .dataframe tbody tr th:only-of-type {\n",
              "        vertical-align: middle;\n",
              "    }\n",
              "\n",
              "    .dataframe tbody tr th {\n",
              "        vertical-align: top;\n",
              "    }\n",
              "\n",
              "    .dataframe thead th {\n",
              "        text-align: right;\n",
              "    }\n",
              "</style>\n",
              "<table border=\"1\" class=\"dataframe\">\n",
              "  <thead>\n",
              "    <tr style=\"text-align: right;\">\n",
              "      <th></th>\n",
              "      <th>title</th>\n",
              "      <th>content</th>\n",
              "      <th>business</th>\n",
              "      <th>entertainment</th>\n",
              "      <th>politics</th>\n",
              "      <th>sport</th>\n",
              "      <th>tech</th>\n",
              "    </tr>\n",
              "  </thead>\n",
              "  <tbody>\n",
              "    <tr>\n",
              "      <th>0</th>\n",
              "      <td>ad sales boost time warner profit</td>\n",
              "      <td>quarterly profits at us media giant timewarne...</td>\n",
              "      <td>1</td>\n",
              "      <td>0</td>\n",
              "      <td>0</td>\n",
              "      <td>0</td>\n",
              "      <td>0</td>\n",
              "    </tr>\n",
              "    <tr>\n",
              "      <th>1</th>\n",
              "      <td>dollar gains on greenspan speech</td>\n",
              "      <td>the dollar has hit its highest level against ...</td>\n",
              "      <td>1</td>\n",
              "      <td>0</td>\n",
              "      <td>0</td>\n",
              "      <td>0</td>\n",
              "      <td>0</td>\n",
              "    </tr>\n",
              "    <tr>\n",
              "      <th>2</th>\n",
              "      <td>yukos unit buyer faces loan claim</td>\n",
              "      <td>the owners of embattled russian oil giant yuk...</td>\n",
              "      <td>1</td>\n",
              "      <td>0</td>\n",
              "      <td>0</td>\n",
              "      <td>0</td>\n",
              "      <td>0</td>\n",
              "    </tr>\n",
              "    <tr>\n",
              "      <th>3</th>\n",
              "      <td>high fuel prices hit ba's profits</td>\n",
              "      <td>british airways has blamed high fuel prices f...</td>\n",
              "      <td>1</td>\n",
              "      <td>0</td>\n",
              "      <td>0</td>\n",
              "      <td>0</td>\n",
              "      <td>0</td>\n",
              "    </tr>\n",
              "    <tr>\n",
              "      <th>4</th>\n",
              "      <td>pernod takeover talk lifts domecq</td>\n",
              "      <td>shares in uk drinks and food firm allied dome...</td>\n",
              "      <td>1</td>\n",
              "      <td>0</td>\n",
              "      <td>0</td>\n",
              "      <td>0</td>\n",
              "      <td>0</td>\n",
              "    </tr>\n",
              "    <tr>\n",
              "      <th>5</th>\n",
              "      <td>japan narrowly escapes recession</td>\n",
              "      <td>japan's economy teetered on the brink of a te...</td>\n",
              "      <td>1</td>\n",
              "      <td>0</td>\n",
              "      <td>0</td>\n",
              "      <td>0</td>\n",
              "      <td>0</td>\n",
              "    </tr>\n",
              "    <tr>\n",
              "      <th>6</th>\n",
              "      <td>jobs growth still slow in the us</td>\n",
              "      <td>the us created fewer jobs than expected in ja...</td>\n",
              "      <td>1</td>\n",
              "      <td>0</td>\n",
              "      <td>0</td>\n",
              "      <td>0</td>\n",
              "      <td>0</td>\n",
              "    </tr>\n",
              "    <tr>\n",
              "      <th>7</th>\n",
              "      <td>india calls for fair trade rules</td>\n",
              "      <td>india, which attends the g7 meeting of seven ...</td>\n",
              "      <td>1</td>\n",
              "      <td>0</td>\n",
              "      <td>0</td>\n",
              "      <td>0</td>\n",
              "      <td>0</td>\n",
              "    </tr>\n",
              "    <tr>\n",
              "      <th>8</th>\n",
              "      <td>ethiopia's crop production up 24%</td>\n",
              "      <td>ethiopia produced 14.27 million tonnes of cro...</td>\n",
              "      <td>1</td>\n",
              "      <td>0</td>\n",
              "      <td>0</td>\n",
              "      <td>0</td>\n",
              "      <td>0</td>\n",
              "    </tr>\n",
              "    <tr>\n",
              "      <th>9</th>\n",
              "      <td>court rejects $280bn tobacco case</td>\n",
              "      <td>a us government claim accusing the country's ...</td>\n",
              "      <td>1</td>\n",
              "      <td>0</td>\n",
              "      <td>0</td>\n",
              "      <td>0</td>\n",
              "      <td>0</td>\n",
              "    </tr>\n",
              "    <tr>\n",
              "      <th>10</th>\n",
              "      <td>ask jeeves tips online ad revival</td>\n",
              "      <td>ask jeeves has become the third leading onlin...</td>\n",
              "      <td>1</td>\n",
              "      <td>0</td>\n",
              "      <td>0</td>\n",
              "      <td>0</td>\n",
              "      <td>0</td>\n",
              "    </tr>\n",
              "    <tr>\n",
              "      <th>11</th>\n",
              "      <td>indonesians face fuel price rise</td>\n",
              "      <td>indonesia's government has confirmed it is co...</td>\n",
              "      <td>1</td>\n",
              "      <td>0</td>\n",
              "      <td>0</td>\n",
              "      <td>0</td>\n",
              "      <td>0</td>\n",
              "    </tr>\n",
              "    <tr>\n",
              "      <th>12</th>\n",
              "      <td>peugeot deal boosts mitsubishi</td>\n",
              "      <td>struggling japanese car maker mitsubishi moto...</td>\n",
              "      <td>1</td>\n",
              "      <td>0</td>\n",
              "      <td>0</td>\n",
              "      <td>0</td>\n",
              "      <td>0</td>\n",
              "    </tr>\n",
              "    <tr>\n",
              "      <th>13</th>\n",
              "      <td>telegraph newspapers axe 90 jobs</td>\n",
              "      <td>the daily and sunday telegraph newspapers are...</td>\n",
              "      <td>1</td>\n",
              "      <td>0</td>\n",
              "      <td>0</td>\n",
              "      <td>0</td>\n",
              "      <td>0</td>\n",
              "    </tr>\n",
              "    <tr>\n",
              "      <th>14</th>\n",
              "      <td>air passengers win new eu rights</td>\n",
              "      <td>air passengers who are unable to board their ...</td>\n",
              "      <td>1</td>\n",
              "      <td>0</td>\n",
              "      <td>0</td>\n",
              "      <td>0</td>\n",
              "      <td>0</td>\n",
              "    </tr>\n",
              "    <tr>\n",
              "      <th>15</th>\n",
              "      <td>china keeps tight rein on credit</td>\n",
              "      <td>china's efforts to stop the economy from over...</td>\n",
              "      <td>1</td>\n",
              "      <td>0</td>\n",
              "      <td>0</td>\n",
              "      <td>0</td>\n",
              "      <td>0</td>\n",
              "    </tr>\n",
              "    <tr>\n",
              "      <th>16</th>\n",
              "      <td>parmalat boasts doubled profits</td>\n",
              "      <td>parmalat, the italian food group at the centr...</td>\n",
              "      <td>1</td>\n",
              "      <td>0</td>\n",
              "      <td>0</td>\n",
              "      <td>0</td>\n",
              "      <td>0</td>\n",
              "    </tr>\n",
              "    <tr>\n",
              "      <th>17</th>\n",
              "      <td>india's rupee hits five-year high</td>\n",
              "      <td>india's rupee has hit a five-year high after ...</td>\n",
              "      <td>1</td>\n",
              "      <td>0</td>\n",
              "      <td>0</td>\n",
              "      <td>0</td>\n",
              "      <td>0</td>\n",
              "    </tr>\n",
              "    <tr>\n",
              "      <th>18</th>\n",
              "      <td>india widens access to telecoms</td>\n",
              "      <td>india has raised the limit for foreign direct...</td>\n",
              "      <td>1</td>\n",
              "      <td>0</td>\n",
              "      <td>0</td>\n",
              "      <td>0</td>\n",
              "      <td>0</td>\n",
              "    </tr>\n",
              "    <tr>\n",
              "      <th>19</th>\n",
              "      <td>call centre users 'lose patience'</td>\n",
              "      <td>customers trying to get through to call centr...</td>\n",
              "      <td>1</td>\n",
              "      <td>0</td>\n",
              "      <td>0</td>\n",
              "      <td>0</td>\n",
              "      <td>0</td>\n",
              "    </tr>\n",
              "    <tr>\n",
              "      <th>20</th>\n",
              "      <td>rank 'set to sell off film unit'</td>\n",
              "      <td>leisure group rank could unveil plans to deme...</td>\n",
              "      <td>1</td>\n",
              "      <td>0</td>\n",
              "      <td>0</td>\n",
              "      <td>0</td>\n",
              "      <td>0</td>\n",
              "    </tr>\n",
              "    <tr>\n",
              "      <th>21</th>\n",
              "      <td>sluggish economy hits german jobs</td>\n",
              "      <td>the number of people out of work in europe's ...</td>\n",
              "      <td>1</td>\n",
              "      <td>0</td>\n",
              "      <td>0</td>\n",
              "      <td>0</td>\n",
              "      <td>0</td>\n",
              "    </tr>\n",
              "    <tr>\n",
              "      <th>22</th>\n",
              "      <td>mixed signals from french economy</td>\n",
              "      <td>the french economy picked up speed at the end...</td>\n",
              "      <td>1</td>\n",
              "      <td>0</td>\n",
              "      <td>0</td>\n",
              "      <td>0</td>\n",
              "      <td>0</td>\n",
              "    </tr>\n",
              "    <tr>\n",
              "      <th>23</th>\n",
              "      <td>us trade gap hits record in 2004</td>\n",
              "      <td>the gap between us exports and imports hit an...</td>\n",
              "      <td>1</td>\n",
              "      <td>0</td>\n",
              "      <td>0</td>\n",
              "      <td>0</td>\n",
              "      <td>0</td>\n",
              "    </tr>\n",
              "    <tr>\n",
              "      <th>24</th>\n",
              "      <td>yukos loses us bankruptcy battle</td>\n",
              "      <td>a judge has dismissed an attempt by russian o...</td>\n",
              "      <td>1</td>\n",
              "      <td>0</td>\n",
              "      <td>0</td>\n",
              "      <td>0</td>\n",
              "      <td>0</td>\n",
              "    </tr>\n",
              "    <tr>\n",
              "      <th>25</th>\n",
              "      <td>safety alert as gm recalls cars</td>\n",
              "      <td>the world's biggest carmaker general motors (...</td>\n",
              "      <td>1</td>\n",
              "      <td>0</td>\n",
              "      <td>0</td>\n",
              "      <td>0</td>\n",
              "      <td>0</td>\n",
              "    </tr>\n",
              "    <tr>\n",
              "      <th>26</th>\n",
              "      <td>steel firm 'to cut' 45,000 jobs</td>\n",
              "      <td>mittal steel, one of the world's largest stee...</td>\n",
              "      <td>1</td>\n",
              "      <td>0</td>\n",
              "      <td>0</td>\n",
              "      <td>0</td>\n",
              "      <td>0</td>\n",
              "    </tr>\n",
              "    <tr>\n",
              "      <th>27</th>\n",
              "      <td>strong demand triggers oil rally</td>\n",
              "      <td>crude oil prices surged back above the $47 a ...</td>\n",
              "      <td>1</td>\n",
              "      <td>0</td>\n",
              "      <td>0</td>\n",
              "      <td>0</td>\n",
              "      <td>0</td>\n",
              "    </tr>\n",
              "    <tr>\n",
              "      <th>28</th>\n",
              "      <td>uk firm faces venezuelan land row</td>\n",
              "      <td>venezuelan authorities have said they will se...</td>\n",
              "      <td>1</td>\n",
              "      <td>0</td>\n",
              "      <td>0</td>\n",
              "      <td>0</td>\n",
              "      <td>0</td>\n",
              "    </tr>\n",
              "    <tr>\n",
              "      <th>29</th>\n",
              "      <td>soaring oil 'hits world economy'</td>\n",
              "      <td>the soaring cost of oil has hit global econom...</td>\n",
              "      <td>1</td>\n",
              "      <td>0</td>\n",
              "      <td>0</td>\n",
              "      <td>0</td>\n",
              "      <td>0</td>\n",
              "    </tr>\n",
              "  </tbody>\n",
              "</table>\n",
              "</div>"
            ],
            "text/plain": [
              "                                title  ... tech\n",
              "0   ad sales boost time warner profit  ...    0\n",
              "1    dollar gains on greenspan speech  ...    0\n",
              "2   yukos unit buyer faces loan claim  ...    0\n",
              "3   high fuel prices hit ba's profits  ...    0\n",
              "4   pernod takeover talk lifts domecq  ...    0\n",
              "5    japan narrowly escapes recession  ...    0\n",
              "6    jobs growth still slow in the us  ...    0\n",
              "7    india calls for fair trade rules  ...    0\n",
              "8   ethiopia's crop production up 24%  ...    0\n",
              "9   court rejects $280bn tobacco case  ...    0\n",
              "10  ask jeeves tips online ad revival  ...    0\n",
              "11   indonesians face fuel price rise  ...    0\n",
              "12     peugeot deal boosts mitsubishi  ...    0\n",
              "13   telegraph newspapers axe 90 jobs  ...    0\n",
              "14   air passengers win new eu rights  ...    0\n",
              "15   china keeps tight rein on credit  ...    0\n",
              "16    parmalat boasts doubled profits  ...    0\n",
              "17  india's rupee hits five-year high  ...    0\n",
              "18    india widens access to telecoms  ...    0\n",
              "19  call centre users 'lose patience'  ...    0\n",
              "20   rank 'set to sell off film unit'  ...    0\n",
              "21  sluggish economy hits german jobs  ...    0\n",
              "22  mixed signals from french economy  ...    0\n",
              "23   us trade gap hits record in 2004  ...    0\n",
              "24   yukos loses us bankruptcy battle  ...    0\n",
              "25    safety alert as gm recalls cars  ...    0\n",
              "26    steel firm 'to cut' 45,000 jobs  ...    0\n",
              "27   strong demand triggers oil rally  ...    0\n",
              "28  uk firm faces venezuelan land row  ...    0\n",
              "29   soaring oil 'hits world economy'  ...    0\n",
              "\n",
              "[30 rows x 7 columns]"
            ]
          },
          "metadata": {
            "tags": []
          },
          "execution_count": 11
        }
      ]
    },
    {
      "cell_type": "code",
      "metadata": {
        "id": "ZKgvijB2jFWt"
      },
      "source": [
        "#mengubah df value menjadi array\n",
        "news = df_baru_cat['title'].values + '' + df_baru_cat['content'].values\n",
        "label = df_baru_cat[['business', 'entertainment', 'politics', 'sport', 'tech']].values"
      ],
      "execution_count": null,
      "outputs": []
    },
    {
      "cell_type": "code",
      "metadata": {
        "colab": {
          "base_uri": "https://localhost:8080/"
        },
        "id": "bwZgHvkcjtHZ",
        "outputId": "ea088b42-de26-4791-c934-350dbc02ad03"
      },
      "source": [
        "news"
      ],
      "execution_count": null,
      "outputs": [
        {
          "output_type": "execute_result",
          "data": {
            "text/plain": [
              "array(['ad sales boost time warner profit quarterly profits at us media giant timewarner jumped 76% to $1.13bn (£600m) for the three months to december, from $639m year-earlier.  the firm, which is now one of the biggest investors in google, benefited from sales of high-speed internet connections and higher advert sales. timewarner said fourth quarter sales rose 2% to $11.1bn from $10.9bn. its profits were buoyed by one-off gains which offset a profit dip at warner bros, and less users for aol.  time warner said on friday that it now owns 8% of search-engine google. but its own internet business, aol, had has mixed fortunes. it lost 464,000 subscribers in the fourth quarter profits were lower than in the preceding three quarters. however, the company said aol\\'s underlying profit before exceptional items rose 8% on the back of stronger internet advertising revenues. it hopes to increase subscribers by offering the online service free to timewarner internet customers and will try to sign up aol\\'s existing customers for high-speed broadband. timewarner also has to restate 2000 and 2003 results following a probe by the us securities exchange commission (sec), which is close to concluding.  time warner\\'s fourth quarter profits were slightly better than analysts\\' expectations. but its film division saw profits slump 27% to $284m, helped by box-office flops alexander and catwoman, a sharp contrast to year-earlier, when the third and final film in the lord of the rings trilogy boosted results. for the full-year, timewarner posted a profit of $3.36bn, up 27% from its 2003 performance, while revenues grew 6.4% to $42.09bn. \"our financial performance was strong, meeting or exceeding all of our full-year objectives and greatly enhancing our flexibility,\" chairman and chief executive richard parsons said. for 2005, timewarner is projecting operating earnings growth of around 5%, and also expects higher revenue and wider profit margins.  timewarner is to restate its accounts as part of efforts to resolve an inquiry into aol by us market regulators. it has already offered to pay $300m to settle charges, in a deal that is under review by the sec. the company said it was unable to estimate the amount it needed to set aside for legal reserves, which it previously set at $500m. it intends to adjust the way it accounts for a deal with german music publisher bertelsmann\\'s purchase of a stake in aol europe, which it had reported as advertising revenue. it will now book the sale of its stake in aol europe as a loss on the value of that stake. ',\n",
              "       'dollar gains on greenspan speech the dollar has hit its highest level against the euro in almost three months after the federal reserve head said the us trade deficit is set to stabilise.  and alan greenspan highlighted the us government\\'s willingness to curb spending and rising household savings as factors which may help to reduce it. in late trading in new york, the dollar reached $1.2871 against the euro, from $1.2974 on thursday. market concerns about the deficit has hit the greenback in recent months. on friday, federal reserve chairman mr greenspan\\'s speech in london ahead of the meeting of g7 finance ministers sent the dollar higher after it had earlier tumbled on the back of worse-than-expected us jobs data. \"i think the chairman\\'s taking a much more sanguine view on the current account deficit than he\\'s taken for some time,\" said robert sinche, head of currency strategy at bank of america in new york. \"he\\'s taking a longer-term view, laying out a set of conditions under which the current account deficit can improve this year and next.\"  worries about the deficit concerns about china do, however, remain. china\\'s currency remains pegged to the dollar and the us currency\\'s sharp falls in recent months have therefore made chinese export prices highly competitive. but calls for a shift in beijing\\'s policy have fallen on deaf ears, despite recent comments in a major chinese newspaper that the \"time is ripe\" for a loosening of the peg. the g7 meeting is thought unlikely to produce any meaningful movement in chinese policy. in the meantime, the us federal reserve\\'s decision on 2 february to boost interest rates by a quarter of a point - the sixth such move in as many months - has opened up a differential with european rates. the half-point window, some believe, could be enough to keep us assets looking more attractive, and could help prop up the dollar. the recent falls have partly been the result of big budget deficits, as well as the us\\'s yawning current account gap, both of which need to be funded by the buying of us bonds and assets by foreign firms and governments. the white house will announce its budget on monday, and many commentators believe the deficit will remain at close to half a trillion dollars. ',\n",
              "       'yukos unit buyer faces loan claim the owners of embattled russian oil giant yukos are to ask the buyer of its former production unit to pay back a $900m (£479m) loan.  state-owned rosneft bought the yugansk unit for $9.3bn in a sale forced by russia to part settle a $27.5bn tax claim against yukos. yukos\\' owner menatep group says it will ask rosneft to repay a loan that yugansk had secured on its assets. rosneft already faces a similar $540m repayment demand from foreign banks. legal experts said rosneft\\'s purchase of yugansk would include such obligations. \"the pledged assets are with rosneft, so it will have to pay real money to the creditors to avoid seizure of yugansk assets,\" said moscow-based us lawyer jamie firestone, who is not connected to the case. menatep group\\'s managing director tim osborne told the reuters news agency: \"if they default, we will fight them where the rule of law exists under the international arbitration clauses of the credit.\"  rosneft officials were unavailable for comment. but the company has said it intends to take action against menatep to recover some of the tax claims and debts owed by yugansk. yukos had filed for bankruptcy protection in a us court in an attempt to prevent the forced sale of its main production arm. the sale went ahead in december and yugansk was sold to a little-known shell company which in turn was bought by rosneft. yukos claims its downfall was punishment for the political ambitions of its founder mikhail khodorkovsky and has vowed to sue any participant in the sale. ',\n",
              "       ...,\n",
              "       'be careful how you code a new european directive could put software writers at risk of legal action, warns former programmer and technology analyst bill thompson.  if it gets its way, the dutch government will conclude its presidency of the european union by pushing through a controversial measure that has been rejected by the european parliament, lacks majority support from national governments and will leave millions of european citizens in legal limbo and facing the possibility of court cases against them. if the new law was about border controls, defence or even the new constitution, then our tv screens would be full of experts agonising over the impact on our daily lives. sadly for those who will be directly affected, the controversy concerns the patenting of computer programs, a topic that may excite the bloggers, campaigning groups and technical press but does not obsess middle britain. after all, how much fuss can you generate about the directive on the patentability of computer-implemented inventions, and the way it amends article 52 of the 1973 european patent convention? yet if the new directive is nodded through at the next meeting of one of the eu\\'s ministerial councils, as seems likely, it will allow programs to be patented in europe just as they are in the us. many observers of the computing scene, including myself, think the results will be disastrous for small companies, innovative programmers and the free and open source software movement. it will let large companies patent all sorts of ideas and give legal force to those who want to limit their competitors\\' use of really obvious ideas.  in the us you cannot build a system that stores customer credit card details so that they can pay without having to re-enter them unless amazon lets you, because they hold the patent on \"one-click\" online purchase. it is a small invention, but amazon made it to the patent office first and now owns it.  we are relatively free from this sort of thing over here, but perhaps not for long. the new proposals go back to 2002, although argument about patentability of software and computer-implemented inventions has been going on since at least the mid-1980s. they have come to a head now after a year in which proposals were made, endorsed by the council of ministers, radically modified by the european parliament and then re-presented in their original form. some national governments seem to be aware of the problems. poland has rejected the proposal and germany\\'s main political parties have opposed it, but there is not enough opposition to guarantee their rejection. early in december the british government held a consultation meeting with those who had commented on the proposals. science minister lord sainsbury went along to listen and outline the uk position, but according to those present, it was embarrassing to see how little the minister and his officials actually understood the issues concerned.  the draft directive is being put through the council as what is called an \"a\" item and can only be approved or rejected. no discussion or amendment is allowed. so why should we be worried? first, there is the abuse of the democratic process involved in disregarding the views of the parliament and abandoning all of their carefully argued amendments. this goes to the heart of the european project, and even those who do not care about software or patents should be worried. if coders are treated like this today, who is to say that it will not be you tomorrow?  more directly, once software patents are granted then any programmer will have to worry that the code they are writing is infringing someone else\\'s patent. this is not about stealing software, as code is already protected by copyright. patents are not copyright, but something much stronger. a patent gives the owner the right to stop anyone else using their invention, even if the other person invented it separately. i have never, to my shame, managed to read lord byron\\'s childe harold\\'s pilgrimage. if it was pointed out that one of my articles contained a substantial chunk of the poem then i could defend myself in court by claiming that i had simply made it up and it was coincidence. the same does not hold for a patent. if i sit down this afternoon and write a brilliant graphics compression routine and it happens to be the same as the lzw algorithm used in gif files, then i am in trouble under patent law, at least in the us. coincidence is no defence. the proposed directive is supported by many of the major software companies, but this is hardly surprising since most of them are us-based and they have already had to cope with a legal environment that allows patents. they have legal departments and, more crucially, patents of their own which they can trade or cross-license with other patent holders.  even this system breaks down, of course, as microsoft found out last year when they initially lost a case brought by eolas which claimed that internet explorer (and other browsers) infringed an eolas patent. that one was eventually thrown out, but only after months of uncertainty and millions of dollars. but small companies, and the free and open software movement do not have any patents to trade. much of the really useful software we use every day, programs like the apache web server, the gnu/linux operating system and the fearsomely popular firefox browser, is developed outside company structures by people who do not have legal departments to check for patent infringements. the damage to software will not happen overnight, of course. if the directive goes through it has to be written into national laws and then there will be a steady stream of legal actions against small companies and open source products. eventually someone will decide to attack linux directly, probably with some secret funding from one or two large players. the new directive will limit innovation by forcing programmers to spend time checking for patent infringements or simply avoiding working in potentially competitive areas. and it will damage europe\\'s computer industry. we can only hope that the council of ministers has the integrity and strength to reject this bad law.  bill thompson is a regular commentator on the bbc world service programme go digital. ',\n",
              "       'us cyber security chief resigns the man making sure us computer networks are safe and secure has resigned after only a year in his post.  amit yoran was director of the national cyber security division within the us department of homeland security created following the 9/11 attacks. the division was tasked with improving us defences against malicious hackers, viruses and other net-based threats. reports suggest he left because his division was not given enough clout within the larger organisation.  mr yoran took up his post in september 2003 and his first task was to get the cyber security division up and running. the organisation had a staff of about 60 people and a budget of about $80m (£44.54m). the division was charged with thinking up and carrying out action to make us networks more impervious to attack and disruption by the viruses, worms and hack attacks that have become commonplace.  in the last 12 months mr yoran oversaw the creation of a cyber alert system that sends out warnings about big hitting viruses and net attacks as they occur. the warnings also contained information about how firms and organisations could protect themselves against these attacks. the cyber security division also audited us government networks to discover exactly what was sitting on which network. the next step was to be the creation of a scanning system to identify vulnerabilities that made federal networks and machines susceptible to attack by malicious hackers and virus writers. mr yoran\\'s division was also doing work to identify the networks and machines that had been broken into by cyber criminals. despite this success mr yoran left his post abruptly at the end of last week, reportedly only giving one day\\'s notice to bosses at the department of homeland security. \"amit yoran has been a valuable contributor on cyber security issues over the past year, and we appreciate his efforts in starting the department\\'s cybersecurity program,\" said a department of homeland security spokeswoman. some reports have suggested that mr yoran felt frustrated by the lack of prominence given to work to protect against net-based threats in the wider homeland organisation. an attempt by us politicians to pass a law to promote mr yoran and raise the profile of his department\\'s work is now mired in congress. ',\n",
              "       'losing yourself in online gaming online role playing games are time-consuming, but enthralling flights from reality. but are some people taking their fantasy lives too seriously?  when video game world of warcraft hit the shops in europe last week fans wrote in to the bbc website to express their delight - and to offer a warning. \"an addiction to a game like this is far more costly in time than any substance could impair - keep track of time,\" wrote travis anderson, in texas. some of the comments were humorous: \"this game is so good i\\'m not going to get it, there\\'s no way i could limit the hours i\\'d spend playing it,\" wrote charles macintyre, from england.  but some struck a more worrying tone about the massively multiplayer online role playing game (mmorpg): \"\\'you need to get out more\\' could be the motto of any mmorpg. shame they are getting more popular, as you know this problem is just going to mushroom,\" wrote stuart stanton-davies, in huddersfield. scare-mongering articles about \"addictive video games\" have existed since the days the first game of pong stopped everyone from working at the atari offices.  gaming is like any other pastime - it can quickly become an unhealthy obsession, whether it is spending too much time in the gym, in front of the television, or reading poetry.  unfortunately, gaming and addiction is a far too easy association to make. however, stories about gamers spending 10 to 15 hours a day in front of some video games are becoming more frequent. and the impact that is having on their families is quite distressing for some.  massively multiplayer online role playing games - mmorpgs - allow thousands of gamers to share a common experience of sharing fantasy or science fiction worlds. the scope of these games - like warcraft, everquest, ultima among others - is epic, and exploration and adventure is almost infinite. part of the \"problem\" is grinding - by which gamers have to perform long-winded, mindless tasks, to bring up their levels and gain access to more adventure. such open-endedness brings with it a desire to keep playing; not for no reason is everquest (eq) nicknamed evercrack. e hayot, writing in the culture blogzine print culture, said recently: \"i used to play the online role-playing game everquest a lot. \"by \\'a lot\\', i mean probably 15 to 20 hours a week on average, and on weeks where i didn\\'t have to work, as many as 30 or 40 hours.\"  he says that in the world of online gaming such behaviour \"wasn\\'t that unusual; lots of people i knew in the game played eq that much\". \"you lie; you don\\'t go into work because you \"had stuff to do at home\"; you cancel or refuse invitations to dinner, you spend much less time watching tv (a good thing, presumably),\" he wrote, explaining how everquest took over his time. he quit the game, he says, because he realised life was more fun than everquest.  let us be clear - such obsession is rare. but the huge growth in online gaming means a growth in the numbers of people who take their passion for a hobby too far. almost 400,000 people bought a copy of world of warcraft in the first two days on sale earlier this month. only a fraction will descend into obsessives. the thoughts of families and friends of gamers who have been affected by everquest can be found on one blog everquest daily grind. jane, who runs the website, compiles a chronicle of heart-rending stories. \"i am actually convinced at this point that there are more than \\'some\\' people who spend more times in mmoprgs than in reality,\" she said. one unnamed correspondent - all are anonymous - wrote: \"on the rare nights when my husband does come to bed at the same time as i do, i find that i am so used to sleeping by myself that it is difficult to get to sleep with another body laying next to me.  \"i can\\'t talk to him while he is playing. there is absolutely no point as he doesn\\'t hear me or is so distracted that i get a \\'ummm... ya\\' a few minutes after i ask him a question.\"  \"gaming widows\" has become a comedic term for women who have been shut out by male gamers. but for some it is not in the least funny. another correspondent wrote: \"i believe that he is addicted to the online gaming, and that is the cause of his depression and restlessness.\" and some of them are even sadder: \"today our son was five days old. \"the sad truth is my husband spent 11 hours today playing his warcraft game. he did not interact with our sweet tiny baby because there were important quests waiting online.\" video game fans often complain that their hobby is misunderstood or marginalised. but as gaming becomes ever more mainstream, and games ever more immersive, there will be no hiding place for social problems.    i wish 30-40 hours a week was unusual but i think it probably isn\\'t. an 11 hour stretch isn\\'t that surprising - i\\'ve known people to play 15+ hours at a stretch. i know of people who are spending their week\\'s holiday from work playing warcraft. i know of people who would play ever[crack] in shifts...waking at 3am to take over from their friends and resume waiting for an item they \\'needed\\' to appear. i understand that the key sign of an addiction is if you alter your life around it rather than fit it into your life. by all standards many of us are addicts. so is the solution to force ourselves to stop playing..or do we just need to make real life a bit more interesting?  sadly with all the talk of people becoming obsessed with gaming, i find myself longing to have the time to join them. i have been in a long term relationship for over 4 years - since that began, games have become more and more complex. and more and more so i find i have less and less time to play them, with and marriage and work being the main drag on my time.  i think the line between playing a game a lot and a gaming addiction is really quite distinct. i play games a lot, definately over 20 hours a week, but i don\\'t go missing work or other commitments in order to play games.  i have, about a year ago, deleted every game on my computer. rpgs are the worst - the real world fades and all your worries sorround a new magic staff or mighty sword. unlike books, or perhaps even tv, you gain absolutely nothing. when you stop playing you\\'re at the same point as when you started; all the achievements of your 10 hour session are irretrievably locked in the game and, since you\\'ve gained nothing in the real world, you may as well pile on more achievement in the fake one.  despite having little monetary value, the \"rewards\" and encouragement offered by these mmorpgs is enough to hook games for hours daily. if only business could learn to leverage that very simply human need for easily measurable progress and recognition. perhaps the unhealthily obsessed simply need more recognition for their achievements in reality?  my advice to gaming widows is \"if you can\\'t beat \\'em, join \\'em\". that is, try playing it yourself. if he wants to play as well, well at least you\\'ll be together somewhere...  i was an addict and it cost me my relationship. i still play now, but without the guilt , hehe, how long have i played in one sitting? from morning till the early hours of the next day, the birds were singing out side and i had to hobble to the bath room cos my bladder was so full i was in pain, i would hardly eat, perhaps some toast, smoke endlessly and drink. now, thankfully the fascination has worn off and i have a girlfriend but still no job. for the most part online gaming give me an adiction to illusory achievement, and as there is no end in sight you keep going for the mirage of the ultimate.  obsessive behaviour is, of course, always cause for concern, but it always bothers me when articles about gaming talk in terms of \"reality\". obviously, somebody who spends thirty hours a week playing everquest has a problem. this problem, however, has nothing to do with a dysfunctional sense of reality. an obsessive eq player does not consider the game to be \"real\" any more than - for example - an obsessive automotive tinkerer considers their car to be human. if mmorpgs have a unique danger, in terms of encouraging obsessive behaviour, it is not that they create an absorbing virtual world, but rather that they can be easily accessed 24/7. the problem here does not lie with the nature of gaming, but with the nature of modern 24 hour culture.  the problem with these so called mmorpgs is that you can never really complete them, there\\'s always another quest to do. a few of my friends have only had about 10 hours sleep since it was released friday...  championship manager consumed my life for years. one particular session started at about 2pm on a sunday, paused for a brief sleep at 5am on the monday and after visit to university for classes restarted at about midday for another 10 hour session. the people who tend to hark on about about the problems of \"hardcore gaming\" seem to be those who have rarely allowed themselves to become immersed in a game. i would expect their perspective to change if they were to do that.  i used to be an everquest addict while i was in college. it came to the point where the gaming world felt more real than the real one. i failed alot of my courses and was able to barely graduate. i was lucky that i came to my senses when i did, others were less fortunate and dropped out of college. now that i am holding a job, i avoid online rpgs like the plague.  when i was made redundant i told my partner i had a new job for three months whilst every day i played everquest from 7:30am till 5:pm. when she came home i pretended i had just got in as well, hence justifying playing it all evening. i have since quit playing mmorpg and have a good job.  when i got to the point where i was eating my dinner in front of the pc i realised things were getting silly so i\\'m trying not to spend so much time on there. it\\'s not easy. i feel as if i\\'ve got a real addiction going on here.  for me the problem is that i love to complete a goal. once it is completed that is it, i am finished, time to move on. i become obsessed to complete the goal, so from that standpoint it is an addiction. in a game where you will never complete an \"ultimate\" goal, well it would be like falling into a black pit. it is easier to escape into a controlled fantasy world than face reality at times - in other words the goal offered in the pc game are \"easier\" and more fun than the real world. pretty scary implications if you think about it.  i can\\'t buy world of warcraft as it would destroy my marrage, i just know it!!  i played star wars galaxies for about a year and can attest to the addictiveness of these games. they are all engineered in such a way that early on in the game you progress quickly, but this progress becomes exponentially slower, requiring more and more time to reach the next level. i\\'m sad to say that at the peak of my addiction i was spending entire weekends in front of my monitor, slowly building up my character, stopping only for food and toilet breaks. thankfully i made a clean break, and actually managed to sell my jedi account for £800 - which is my only sanity check in an otherwise completely unproductive time vacuum.  seven years ago, i began playing ultima online. this game dominated 2 years of my life. they were 2 wonderful years and i still have vivid memories of the experiences and friends i had. online gaming can be a world of escapism where you can be yourself without fear of the thoughts of others. something that cannot always be achieved in the day to day running of a normal life. whilst i would warn against people giving to much of there life to these games, i believe they are a better way to spend your time than say watching tv.  gaming is addictive and should be made a recognised addiction. when i was single i used to play upto eight hours a night after work every night for about a year, building up my stats, completing evermore quests and battling ogres. but somehow i found time to get out, even met someone and got married! has my life changed? hell no! i still cast spells and battle till the early hours of the morning. on with the fun!  online gaming should be enjoyed just as much as you would enjoy watching television, or going to the cinema or the pub with your mates.  many people use recreational drugs on an occasional basis and are able to lead succesfull lives with families, relationships and good careers. a minority allow drugs to take over and destroy their lives and become addicted. according to this article the same is true of mmorpgs. the message to the government is clear, either legalise drugs, or outlaw online gaming!!  sounds like there are some sad stories here - and i can believe them all. i play alot of warcraft myself, and know full well how addictive it is. i am resolute that it will not take over my life. it certainly gets in the way though. i think that some people simply do not know how to draw this line, or lack the willpower to stop themselves stepping over it.  i think i\\'m obsessed with gaming in general, i spend far too much time playing games like everquest 2 and football manager rather than going out and interacting with real people and when i do try to, i\\'m always thinking in the back if my mind that i\\'d rather be in front of the computer winning the league with cambridge united.  i am obsessed with online role playing games. it\\'s not so much quests but it has the adrenaline of a real life situation - goals to achieve etc. i spend about five hours per day online playing it and i rarely get more than four to five hours sleep before getting up for work the next morning...  as many of the players spend their time in mmorpgs rather than in front of the tv i fail to see how it will affect players social lives negatively. furthermore these types of games contain a huge social aspect, whereas other games and some other pursuits (such as being a couch potato) the players could be indulging in are solitary by nature.  these games are like most things -- too much of anything is a bad thing, but as long as you can walk away from the computer to do other things too, they can be great fun.  living in korea at the moment, they have lots pc bangs (internet cafes). nearly most of south koreans are addicted to online games, and one korean died because of the lack of food and water he had through playing online games.  i play xbox live every day. i find my self lying and rescheduling everything around my gaming fix. the longest i played was a 24 hour straight session. i know i play for to long but it\\'s an obsession that i can\\'t control. can you reccomend a counsellor - this is not a wind up... but something i\\'m increasingly concerned with...  me and my mate play online for an hour or two a day, we\\'re both aware of how much time can disappear by sitting in front of a tv, trying to \\'frag\\' some individual. it\\'s getting the balance between getting home and relasing the stress of a day by an hour or so gaming, and enjoying \\'real\\' life...  i bought the us version of world of warcraft when it came out. the longest period i played was 23 hrs straight. i gave up the game after a month because it was so addictive, but have subsequently just bought the european version (couldn\\'t help myself). in future, i\\'m going to regulate my time far more strictly. great game!  having played mmorpg games for some years i agree that these type of games can be life sucking. but my concern is for the younger generation of gamers that play for hours on end in an adult enviroment. most mmorpg games you need a credit card to play but i dont think parents know just what they are letting there children into.  unless there is undeniable medical proof that staring at a computer screens for hours at a time can damage a person&#191;s health, you can expect this not to decline but to get worse.  these people are pathetic. they need to get off their machines and notice that our world is being swiftly overcome by issues and troubles that make the trifling worries of and \"online universe\" absolutely meaningless.  24hours, when i was a kid at school and i was on half term, ultima online was the game, ahhhh them was the days ! lol '],\n",
              "      dtype=object)"
            ]
          },
          "metadata": {
            "tags": []
          },
          "execution_count": 13
        }
      ]
    },
    {
      "cell_type": "code",
      "metadata": {
        "colab": {
          "base_uri": "https://localhost:8080/"
        },
        "id": "vCSLmjclj0D-",
        "outputId": "9e5a1ccf-d820-4ce0-dc7f-20ca2eb5fbeb"
      },
      "source": [
        "label"
      ],
      "execution_count": null,
      "outputs": [
        {
          "output_type": "execute_result",
          "data": {
            "text/plain": [
              "array([[1, 0, 0, 0, 0],\n",
              "       [1, 0, 0, 0, 0],\n",
              "       [1, 0, 0, 0, 0],\n",
              "       ...,\n",
              "       [0, 0, 0, 0, 1],\n",
              "       [0, 0, 0, 0, 1],\n",
              "       [0, 0, 0, 0, 1]], dtype=uint8)"
            ]
          },
          "metadata": {
            "tags": []
          },
          "execution_count": 14
        }
      ]
    },
    {
      "cell_type": "code",
      "metadata": {
        "id": "wLo5jebaj4Xw"
      },
      "source": [
        "#spliting the data\n",
        "from sklearn.model_selection import train_test_split\n",
        "news_train, news_val, label_train, label_val = train_test_split(news, label, test_size =0.2, shuffle=True) #test_size 0.2 karena kriteria yang dibutuhkan adalah val sebesar 20%"
      ],
      "execution_count": null,
      "outputs": []
    },
    {
      "cell_type": "code",
      "metadata": {
        "id": "Cij0MYq1lGBs"
      },
      "source": [
        "#tokenizer\n",
        "from tensorflow.keras.preprocessing.text import Tokenizer\n",
        "from tensorflow.keras.preprocessing.sequence import pad_sequences\n",
        "\n",
        "tokenizer = Tokenizer(num_words=5000, oov_token='x', filters='!\"#$%&()*+,-./:;<=>@[\\]^_`{|}~ ')\n",
        "tokenizer.fit_on_texts(news_train)\n",
        "tokenizer.fit_on_texts(news_val)\n",
        "\n",
        "sekuens_train = tokenizer.texts_to_sequences(news_train)\n",
        "sekuens_val = tokenizer.texts_to_sequences(news_val)\n",
        "\n",
        "padded_train = pad_sequences(sekuens_train)\n",
        "padded_val = pad_sequences(sekuens_val)"
      ],
      "execution_count": null,
      "outputs": []
    },
    {
      "cell_type": "code",
      "metadata": {
        "colab": {
          "base_uri": "https://localhost:8080/"
        },
        "id": "5We4XrCcmh-i",
        "outputId": "d0719e95-8082-402d-8342-f4902ca869a7"
      },
      "source": [
        "#model\n",
        "model = tf.keras.Sequential([\n",
        "    tf.keras.layers.Embedding(input_dim=5000, output_dim=64),\n",
        "    tf.keras.layers.LSTM(128),\n",
        "    tf.keras.layers.Dense(128, activation='relu'),\n",
        "    tf.keras.layers.Dropout(0.5),\n",
        "    tf.keras.layers.Dense(5, activation='softmax')\n",
        "])\n",
        "model.compile(optimizer='adam', metrics=['accuracy'], loss='categorical_crossentropy',)\n",
        "model.summary()"
      ],
      "execution_count": null,
      "outputs": [
        {
          "output_type": "stream",
          "text": [
            "Model: \"sequential\"\n",
            "_________________________________________________________________\n",
            "Layer (type)                 Output Shape              Param #   \n",
            "=================================================================\n",
            "embedding (Embedding)        (None, None, 64)          320000    \n",
            "_________________________________________________________________\n",
            "lstm (LSTM)                  (None, 128)               98816     \n",
            "_________________________________________________________________\n",
            "dense (Dense)                (None, 128)               16512     \n",
            "_________________________________________________________________\n",
            "dropout (Dropout)            (None, 128)               0         \n",
            "_________________________________________________________________\n",
            "dense_1 (Dense)              (None, 5)                 645       \n",
            "=================================================================\n",
            "Total params: 435,973\n",
            "Trainable params: 435,973\n",
            "Non-trainable params: 0\n",
            "_________________________________________________________________\n"
          ],
          "name": "stdout"
        }
      ]
    },
    {
      "cell_type": "code",
      "metadata": {
        "id": "fPbBESQTnazT"
      },
      "source": [
        "#callback\n",
        "class myCallback(tf.keras.callbacks.Callback):\n",
        "  def on_epoch_end(self, epoch, logs={}):\n",
        "    if(logs.get('accuracy')>0.9 and logs.get('val_accuracy')>0.9):\n",
        "      self.model.stop_training = True\n",
        "      print(\"\\nAccuracy dari training set dan validation set sudah >90%!\")\n",
        "callbacks = myCallback()"
      ],
      "execution_count": null,
      "outputs": []
    },
    {
      "cell_type": "code",
      "metadata": {
        "colab": {
          "base_uri": "https://localhost:8080/"
        },
        "id": "Z7chcAuSsy47",
        "outputId": "46e84527-ba1b-41ae-da5d-f2d6d7e6ab3c"
      },
      "source": [
        "#fit\n",
        "history = model.fit(padded_train, label_train, epochs=50, validation_data=(padded_val, label_val), verbose = 2, callbacks=[callbacks], validation_steps=30)"
      ],
      "execution_count": null,
      "outputs": [
        {
          "output_type": "stream",
          "text": [
            "Epoch 1/50\n",
            "56/56 - 20s - loss: 1.6067 - accuracy: 0.2579 - val_loss: 1.4644 - val_accuracy: 0.3820\n",
            "Epoch 2/50\n",
            "56/56 - 12s - loss: 1.6723 - accuracy: 0.4146 - val_loss: 1.1805 - val_accuracy: 0.5191\n",
            "Epoch 3/50\n",
            "56/56 - 11s - loss: 0.8899 - accuracy: 0.6624 - val_loss: 0.5494 - val_accuracy: 0.7865\n",
            "Epoch 4/50\n",
            "56/56 - 11s - loss: 0.4442 - accuracy: 0.8174 - val_loss: 0.6616 - val_accuracy: 0.7371\n",
            "Epoch 5/50\n",
            "56/56 - 11s - loss: 0.2693 - accuracy: 0.9140 - val_loss: 0.4540 - val_accuracy: 0.8382\n",
            "Epoch 6/50\n",
            "56/56 - 11s - loss: 0.0780 - accuracy: 0.9787 - val_loss: 0.4676 - val_accuracy: 0.8764\n",
            "Epoch 7/50\n",
            "56/56 - 12s - loss: 0.0711 - accuracy: 0.9843 - val_loss: 0.4767 - val_accuracy: 0.8742\n",
            "Epoch 8/50\n",
            "56/56 - 12s - loss: 0.0511 - accuracy: 0.9876 - val_loss: 0.6406 - val_accuracy: 0.7955\n",
            "Epoch 9/50\n",
            "56/56 - 11s - loss: 0.0912 - accuracy: 0.9792 - val_loss: 0.5959 - val_accuracy: 0.8202\n",
            "Epoch 10/50\n",
            "56/56 - 11s - loss: 0.0227 - accuracy: 0.9966 - val_loss: 0.5621 - val_accuracy: 0.8652\n",
            "Epoch 11/50\n",
            "56/56 - 11s - loss: 0.0037 - accuracy: 1.0000 - val_loss: 0.5265 - val_accuracy: 0.8764\n",
            "Epoch 12/50\n",
            "56/56 - 12s - loss: 0.0164 - accuracy: 0.9961 - val_loss: 0.5826 - val_accuracy: 0.8517\n",
            "Epoch 13/50\n",
            "56/56 - 12s - loss: 0.0102 - accuracy: 0.9978 - val_loss: 0.9331 - val_accuracy: 0.8022\n",
            "Epoch 14/50\n",
            "56/56 - 12s - loss: 0.0185 - accuracy: 0.9955 - val_loss: 0.7720 - val_accuracy: 0.8135\n",
            "Epoch 15/50\n",
            "56/56 - 11s - loss: 0.0149 - accuracy: 0.9961 - val_loss: 0.7660 - val_accuracy: 0.8225\n",
            "Epoch 16/50\n",
            "56/56 - 11s - loss: 0.0023 - accuracy: 1.0000 - val_loss: 0.7502 - val_accuracy: 0.8517\n",
            "Epoch 17/50\n",
            "56/56 - 11s - loss: 0.0011 - accuracy: 1.0000 - val_loss: 0.7448 - val_accuracy: 0.8629\n",
            "Epoch 18/50\n",
            "56/56 - 12s - loss: 9.5683e-04 - accuracy: 1.0000 - val_loss: 0.7203 - val_accuracy: 0.8697\n",
            "Epoch 19/50\n",
            "56/56 - 12s - loss: 8.6507e-04 - accuracy: 1.0000 - val_loss: 0.7130 - val_accuracy: 0.8742\n",
            "Epoch 20/50\n",
            "56/56 - 11s - loss: 6.2672e-04 - accuracy: 1.0000 - val_loss: 0.7302 - val_accuracy: 0.8809\n",
            "Epoch 21/50\n",
            "56/56 - 12s - loss: 3.2716e-04 - accuracy: 1.0000 - val_loss: 0.7374 - val_accuracy: 0.8809\n",
            "Epoch 22/50\n",
            "56/56 - 12s - loss: 3.8228e-04 - accuracy: 1.0000 - val_loss: 0.7291 - val_accuracy: 0.8854\n",
            "Epoch 23/50\n",
            "56/56 - 11s - loss: 3.6544e-04 - accuracy: 1.0000 - val_loss: 0.7438 - val_accuracy: 0.8787\n",
            "Epoch 24/50\n",
            "56/56 - 11s - loss: 3.5662e-04 - accuracy: 1.0000 - val_loss: 0.7528 - val_accuracy: 0.8764\n",
            "Epoch 25/50\n",
            "56/56 - 11s - loss: 3.7647e-04 - accuracy: 1.0000 - val_loss: 0.7359 - val_accuracy: 0.8809\n",
            "Epoch 26/50\n",
            "56/56 - 11s - loss: 3.6771e-04 - accuracy: 1.0000 - val_loss: 0.7214 - val_accuracy: 0.8944\n",
            "Epoch 27/50\n",
            "56/56 - 12s - loss: 2.2386e-04 - accuracy: 1.0000 - val_loss: 0.7219 - val_accuracy: 0.8966\n",
            "Epoch 28/50\n",
            "56/56 - 12s - loss: 0.0078 - accuracy: 0.9994 - val_loss: 0.7912 - val_accuracy: 0.8494\n",
            "Epoch 29/50\n",
            "56/56 - 11s - loss: 0.0835 - accuracy: 0.9758 - val_loss: 0.8603 - val_accuracy: 0.7708\n",
            "Epoch 30/50\n",
            "56/56 - 11s - loss: 0.0514 - accuracy: 0.9820 - val_loss: 0.6910 - val_accuracy: 0.8652\n",
            "Epoch 31/50\n",
            "56/56 - 11s - loss: 0.0153 - accuracy: 0.9933 - val_loss: 1.2658 - val_accuracy: 0.6966\n",
            "Epoch 32/50\n",
            "56/56 - 11s - loss: 0.0729 - accuracy: 0.9809 - val_loss: 0.9301 - val_accuracy: 0.8157\n",
            "Epoch 33/50\n",
            "56/56 - 12s - loss: 0.0462 - accuracy: 0.9831 - val_loss: 0.8278 - val_accuracy: 0.7933\n",
            "Epoch 34/50\n",
            "56/56 - 12s - loss: 0.0034 - accuracy: 1.0000 - val_loss: 0.7907 - val_accuracy: 0.8360\n",
            "Epoch 35/50\n",
            "56/56 - 11s - loss: 7.3150e-04 - accuracy: 1.0000 - val_loss: 0.7878 - val_accuracy: 0.8517\n",
            "Epoch 36/50\n",
            "56/56 - 11s - loss: 6.4911e-04 - accuracy: 1.0000 - val_loss: 0.7824 - val_accuracy: 0.8539\n",
            "Epoch 37/50\n",
            "56/56 - 11s - loss: 4.5512e-04 - accuracy: 1.0000 - val_loss: 0.7792 - val_accuracy: 0.8584\n",
            "Epoch 38/50\n",
            "56/56 - 11s - loss: 4.8619e-04 - accuracy: 1.0000 - val_loss: 0.7717 - val_accuracy: 0.8674\n",
            "Epoch 39/50\n",
            "56/56 - 12s - loss: 3.1141e-04 - accuracy: 1.0000 - val_loss: 0.7664 - val_accuracy: 0.8674\n",
            "Epoch 40/50\n",
            "56/56 - 12s - loss: 2.8012e-04 - accuracy: 1.0000 - val_loss: 0.7601 - val_accuracy: 0.8719\n",
            "Epoch 41/50\n",
            "56/56 - 11s - loss: 2.9122e-04 - accuracy: 1.0000 - val_loss: 0.7547 - val_accuracy: 0.8787\n",
            "Epoch 42/50\n",
            "56/56 - 11s - loss: 2.3907e-04 - accuracy: 1.0000 - val_loss: 0.7470 - val_accuracy: 0.8854\n",
            "Epoch 43/50\n",
            "56/56 - 11s - loss: 2.3724e-04 - accuracy: 1.0000 - val_loss: 0.7431 - val_accuracy: 0.8876\n",
            "Epoch 44/50\n",
            "56/56 - 12s - loss: 2.6367e-04 - accuracy: 1.0000 - val_loss: 0.7462 - val_accuracy: 0.8876\n",
            "Epoch 45/50\n",
            "56/56 - 12s - loss: 2.2761e-04 - accuracy: 1.0000 - val_loss: 0.7455 - val_accuracy: 0.8921\n",
            "Epoch 46/50\n",
            "56/56 - 11s - loss: 1.1777e-04 - accuracy: 1.0000 - val_loss: 0.7440 - val_accuracy: 0.8921\n",
            "Epoch 47/50\n",
            "56/56 - 12s - loss: 1.5372e-04 - accuracy: 1.0000 - val_loss: 0.7465 - val_accuracy: 0.8921\n",
            "Epoch 48/50\n",
            "56/56 - 12s - loss: 1.8305e-04 - accuracy: 1.0000 - val_loss: 0.7532 - val_accuracy: 0.8921\n",
            "Epoch 49/50\n",
            "56/56 - 11s - loss: 1.1518e-04 - accuracy: 1.0000 - val_loss: 0.7562 - val_accuracy: 0.8921\n",
            "Epoch 50/50\n",
            "56/56 - 11s - loss: 1.1375e-04 - accuracy: 1.0000 - val_loss: 0.7602 - val_accuracy: 0.8899\n"
          ],
          "name": "stdout"
        }
      ]
    },
    {
      "cell_type": "code",
      "metadata": {
        "colab": {
          "base_uri": "https://localhost:8080/",
          "height": 295
        },
        "id": "j2qSUZ8EMXjM",
        "outputId": "9b6d3bf8-6e15-4d3a-d899-44fecf0a7496"
      },
      "source": [
        "#plotting the accuration of model\n",
        "import matplotlib.pyplot as plt\n",
        "plt.plot(history.history['accuracy'])\n",
        "plt.plot(history.history['val_accuracy'])\n",
        "plt.title('Model Accuracy')\n",
        "plt.ylabel('accuracy')\n",
        "plt.xlabel('epoch')\n",
        "plt.legend(['train','val'], loc='lower right')\n",
        "plt.show()"
      ],
      "execution_count": null,
      "outputs": [
        {
          "output_type": "display_data",
          "data": {
            "image/png": "[encoded data removed]",
            "text/plain": [
              "<Figure size 432x288 with 1 Axes>"
            ]
          },
          "metadata": {
            "tags": [],
            "needs_background": "light"
          }
        }
      ]
    },
    {
      "cell_type": "code",
      "metadata": {
        "colab": {
          "base_uri": "https://localhost:8080/",
          "height": 295
        },
        "id": "fxdsPg1POmrC",
        "outputId": "3469d3de-0501-47de-d3e0-e9b17f5225c2"
      },
      "source": [
        "# plotting the loss of model\n",
        "plt.plot(history.history['loss'])\n",
        "plt.plot(history.history['val_loss'])\n",
        "plt.title('Model Loss')\n",
        "plt.ylabel('loss')\n",
        "plt.xlabel('epoch')\n",
        "plt.legend(['train', 'val'], loc='lower right')\n",
        "plt.show()"
      ],
      "execution_count": null,
      "outputs": [
        {
          "output_type": "display_data",
          "data": {
            "image/png": "[encoded data removed]",
            "text/plain": [
              "<Figure size 432x288 with 1 Axes>"
            ]
          },
          "metadata": {
            "tags": [],
            "needs_background": "light"
          }
        }
      ]
    }
  ]
}
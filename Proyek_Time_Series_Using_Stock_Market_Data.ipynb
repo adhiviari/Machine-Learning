{
  "nbformat": 4,
  "nbformat_minor": 0,
  "metadata": {
    "colab": {
      "name": "Time Series Using Stock.ipynb",
      "provenance": []
    },
    "kernelspec": {
      "name": "python3",
      "display_name": "Python 3"
    },
    "language_info": {
      "name": "python"
    },
    "accelerator": "GPU"
  },
  "cells": [
    {
      "cell_type": "markdown",
      "metadata": {
        "id": "Eb3g8Bsg5vcV"
      },
      "source": [
        "Nama: Adhi Viari Nugraha\n",
        "\n",
        "username: adhi237\n",
        "\n",
        "Email: viariadhi@gmail.com"
      ]
    },
    {
      "cell_type": "code",
      "metadata": {
        "colab": {
          "base_uri": "https://localhost:8080/"
        },
        "id": "Y_Pf_Acal8GY",
        "outputId": "ff80ac8f-e247-46da-f83f-9cf30b2fccfd"
      },
      "source": [
        "import pandas as pd\n",
        "df = pd.read_csv('ADANIPORTS.csv')\n",
        "df.head"
      ],
      "execution_count": null,
      "outputs": [
        {
          "output_type": "execute_result",
          "data": {
            "text/plain": [
              "<bound method NDFrame.head of             Date      Symbol Series  ...    Trades  Deliverable Volume  %Deliverble\n",
              "0     2007-11-27  MUNDRAPORT     EQ  ...       NaN             9859619       0.3612\n",
              "1     2007-11-28  MUNDRAPORT     EQ  ...       NaN             1453278       0.3172\n",
              "2     2007-11-29  MUNDRAPORT     EQ  ...       NaN             1069678       0.2088\n",
              "3     2007-11-30  MUNDRAPORT     EQ  ...       NaN             1260913       0.2735\n",
              "4     2007-12-03  MUNDRAPORT     EQ  ...       NaN              816123       0.2741\n",
              "...          ...         ...    ...  ...       ...                 ...          ...\n",
              "3317  2021-04-26  ADANIPORTS     EQ  ...  116457.0              838079       0.0892\n",
              "3318  2021-04-27  ADANIPORTS     EQ  ...  236896.0             1779639       0.0865\n",
              "3319  2021-04-28  ADANIPORTS     EQ  ...  130847.0             1342353       0.1203\n",
              "3320  2021-04-29  ADANIPORTS     EQ  ...  153293.0             1304895       0.0942\n",
              "3321  2021-04-30  ADANIPORTS     EQ  ...  132141.0             3514692       0.2789\n",
              "\n",
              "[3322 rows x 15 columns]>"
            ]
          },
          "metadata": {
            "tags": []
          },
          "execution_count": 1
        }
      ]
    },
    {
      "cell_type": "code",
      "metadata": {
        "colab": {
          "base_uri": "https://localhost:8080/"
        },
        "id": "f0FhD2zBmq2d",
        "outputId": "eda5b01d-7ed8-4f35-cf7b-19287b39db33"
      },
      "source": [
        "df.info()"
      ],
      "execution_count": null,
      "outputs": [
        {
          "output_type": "stream",
          "text": [
            "<class 'pandas.core.frame.DataFrame'>\n",
            "RangeIndex: 3322 entries, 0 to 3321\n",
            "Data columns (total 15 columns):\n",
            " #   Column              Non-Null Count  Dtype  \n",
            "---  ------              --------------  -----  \n",
            " 0   Date                3322 non-null   object \n",
            " 1   Symbol              3322 non-null   object \n",
            " 2   Series              3322 non-null   object \n",
            " 3   Prev Close          3322 non-null   float64\n",
            " 4   Open                3322 non-null   float64\n",
            " 5   High                3322 non-null   float64\n",
            " 6   Low                 3322 non-null   float64\n",
            " 7   Last                3322 non-null   float64\n",
            " 8   Close               3322 non-null   float64\n",
            " 9   VWAP                3322 non-null   float64\n",
            " 10  Volume              3322 non-null   int64  \n",
            " 11  Turnover            3322 non-null   float64\n",
            " 12  Trades              2456 non-null   float64\n",
            " 13  Deliverable Volume  3322 non-null   int64  \n",
            " 14  %Deliverble         3322 non-null   float64\n",
            "dtypes: float64(10), int64(2), object(3)\n",
            "memory usage: 389.4+ KB\n"
          ],
          "name": "stdout"
        }
      ]
    },
    {
      "cell_type": "code",
      "metadata": {
        "colab": {
          "base_uri": "https://localhost:8080/"
        },
        "id": "iPJbijeAmsVm",
        "outputId": "df796576-881f-4ab8-d91a-1a92e6150015"
      },
      "source": [
        "df.shape"
      ],
      "execution_count": null,
      "outputs": [
        {
          "output_type": "execute_result",
          "data": {
            "text/plain": [
              "(3322, 15)"
            ]
          },
          "metadata": {
            "tags": []
          },
          "execution_count": 3
        }
      ]
    },
    {
      "cell_type": "code",
      "metadata": {
        "colab": {
          "base_uri": "https://localhost:8080/"
        },
        "id": "pS5E6A3RnjjI",
        "outputId": "9cf25b9c-f8fa-49e1-bcbc-25e031fd295f"
      },
      "source": [
        "df.isnull().sum()"
      ],
      "execution_count": null,
      "outputs": [
        {
          "output_type": "execute_result",
          "data": {
            "text/plain": [
              "Date                    0\n",
              "Symbol                  0\n",
              "Series                  0\n",
              "Prev Close              0\n",
              "Open                    0\n",
              "High                    0\n",
              "Low                     0\n",
              "Last                    0\n",
              "Close                   0\n",
              "VWAP                    0\n",
              "Volume                  0\n",
              "Turnover                0\n",
              "Trades                866\n",
              "Deliverable Volume      0\n",
              "%Deliverble             0\n",
              "dtype: int64"
            ]
          },
          "metadata": {
            "tags": []
          },
          "execution_count": 4
        }
      ]
    },
    {
      "cell_type": "code",
      "metadata": {
        "colab": {
          "base_uri": "https://localhost:8080/",
          "height": 191
        },
        "id": "EGLVOGv9qKih",
        "outputId": "3c7a241d-20e3-42cb-a339-91c191fd26b3"
      },
      "source": [
        "df['Date'] = pd.to_datetime(df['Date'])\n",
        "df['Date'].head()\n",
        "df = df[['Date','Close']]\n",
        "df.head()"
      ],
      "execution_count": null,
      "outputs": [
        {
          "output_type": "execute_result",
          "data": {
            "text/html": [
              "<div>\n",
              "<style scoped>\n",
              "    .dataframe tbody tr th:only-of-type {\n",
              "        vertical-align: middle;\n",
              "    }\n",
              "\n",
              "    .dataframe tbody tr th {\n",
              "        vertical-align: top;\n",
              "    }\n",
              "\n",
              "    .dataframe thead th {\n",
              "        text-align: right;\n",
              "    }\n",
              "</style>\n",
              "<table border=\"1\" class=\"dataframe\">\n",
              "  <thead>\n",
              "    <tr style=\"text-align: right;\">\n",
              "      <th></th>\n",
              "      <th>Date</th>\n",
              "      <th>Close</th>\n",
              "    </tr>\n",
              "  </thead>\n",
              "  <tbody>\n",
              "    <tr>\n",
              "      <th>0</th>\n",
              "      <td>2007-11-27</td>\n",
              "      <td>962.90</td>\n",
              "    </tr>\n",
              "    <tr>\n",
              "      <th>1</th>\n",
              "      <td>2007-11-28</td>\n",
              "      <td>893.90</td>\n",
              "    </tr>\n",
              "    <tr>\n",
              "      <th>2</th>\n",
              "      <td>2007-11-29</td>\n",
              "      <td>884.20</td>\n",
              "    </tr>\n",
              "    <tr>\n",
              "      <th>3</th>\n",
              "      <td>2007-11-30</td>\n",
              "      <td>921.55</td>\n",
              "    </tr>\n",
              "    <tr>\n",
              "      <th>4</th>\n",
              "      <td>2007-12-03</td>\n",
              "      <td>969.30</td>\n",
              "    </tr>\n",
              "  </tbody>\n",
              "</table>\n",
              "</div>"
            ],
            "text/plain": [
              "        Date   Close\n",
              "0 2007-11-27  962.90\n",
              "1 2007-11-28  893.90\n",
              "2 2007-11-29  884.20\n",
              "3 2007-11-30  921.55\n",
              "4 2007-12-03  969.30"
            ]
          },
          "metadata": {
            "tags": []
          },
          "execution_count": 5
        }
      ]
    },
    {
      "cell_type": "code",
      "metadata": {
        "colab": {
          "base_uri": "https://localhost:8080/"
        },
        "id": "8EWs4rOU0EOP",
        "outputId": "9ba74fe0-c0e3-4454-e83f-c2b492566952"
      },
      "source": [
        "df.info()"
      ],
      "execution_count": null,
      "outputs": [
        {
          "output_type": "stream",
          "text": [
            "<class 'pandas.core.frame.DataFrame'>\n",
            "RangeIndex: 3322 entries, 0 to 3321\n",
            "Data columns (total 2 columns):\n",
            " #   Column  Non-Null Count  Dtype         \n",
            "---  ------  --------------  -----         \n",
            " 0   Date    3322 non-null   datetime64[ns]\n",
            " 1   Close   3322 non-null   float64       \n",
            "dtypes: datetime64[ns](1), float64(1)\n",
            "memory usage: 52.0 KB\n"
          ],
          "name": "stdout"
        }
      ]
    },
    {
      "cell_type": "code",
      "metadata": {
        "colab": {
          "base_uri": "https://localhost:8080/",
          "height": 220
        },
        "id": "U3zqvsz30N-D",
        "outputId": "96fe0d40-c873-4e9f-c22f-9aa744a782d9"
      },
      "source": [
        "adanis = df[['Date','Close']].copy()\n",
        "adanis['just_date'] = adanis['Date'].dt.date\n",
        "\n",
        "adanisfinal=adanis.drop('Date',axis=1)\n",
        "adanisfinal.set_index('just_date', inplace= True)\n",
        "adanisfinal.head()"
      ],
      "execution_count": null,
      "outputs": [
        {
          "output_type": "execute_result",
          "data": {
            "text/html": [
              "<div>\n",
              "<style scoped>\n",
              "    .dataframe tbody tr th:only-of-type {\n",
              "        vertical-align: middle;\n",
              "    }\n",
              "\n",
              "    .dataframe tbody tr th {\n",
              "        vertical-align: top;\n",
              "    }\n",
              "\n",
              "    .dataframe thead th {\n",
              "        text-align: right;\n",
              "    }\n",
              "</style>\n",
              "<table border=\"1\" class=\"dataframe\">\n",
              "  <thead>\n",
              "    <tr style=\"text-align: right;\">\n",
              "      <th></th>\n",
              "      <th>Close</th>\n",
              "    </tr>\n",
              "    <tr>\n",
              "      <th>just_date</th>\n",
              "      <th></th>\n",
              "    </tr>\n",
              "  </thead>\n",
              "  <tbody>\n",
              "    <tr>\n",
              "      <th>2007-11-27</th>\n",
              "      <td>962.90</td>\n",
              "    </tr>\n",
              "    <tr>\n",
              "      <th>2007-11-28</th>\n",
              "      <td>893.90</td>\n",
              "    </tr>\n",
              "    <tr>\n",
              "      <th>2007-11-29</th>\n",
              "      <td>884.20</td>\n",
              "    </tr>\n",
              "    <tr>\n",
              "      <th>2007-11-30</th>\n",
              "      <td>921.55</td>\n",
              "    </tr>\n",
              "    <tr>\n",
              "      <th>2007-12-03</th>\n",
              "      <td>969.30</td>\n",
              "    </tr>\n",
              "  </tbody>\n",
              "</table>\n",
              "</div>"
            ],
            "text/plain": [
              "             Close\n",
              "just_date         \n",
              "2007-11-27  962.90\n",
              "2007-11-28  893.90\n",
              "2007-11-29  884.20\n",
              "2007-11-30  921.55\n",
              "2007-12-03  969.30"
            ]
          },
          "metadata": {
            "tags": []
          },
          "execution_count": 7
        }
      ]
    },
    {
      "cell_type": "code",
      "metadata": {
        "colab": {
          "base_uri": "https://localhost:8080/"
        },
        "id": "feqCdCGP1ALv",
        "outputId": "ae6cf176-f589-4255-dabb-0f8a51202550"
      },
      "source": [
        "adanisfinal.info()"
      ],
      "execution_count": null,
      "outputs": [
        {
          "output_type": "stream",
          "text": [
            "<class 'pandas.core.frame.DataFrame'>\n",
            "Index: 3322 entries, 2007-11-27 to 2021-04-30\n",
            "Data columns (total 1 columns):\n",
            " #   Column  Non-Null Count  Dtype  \n",
            "---  ------  --------------  -----  \n",
            " 0   Close   3322 non-null   float64\n",
            "dtypes: float64(1)\n",
            "memory usage: 51.9+ KB\n"
          ],
          "name": "stdout"
        }
      ]
    },
    {
      "cell_type": "code",
      "metadata": {
        "colab": {
          "base_uri": "https://localhost:8080/",
          "height": 347
        },
        "id": "KLOrKMqR1E8U",
        "outputId": "8df52f13-2828-4095-f237-0ecdc3cb5b4c"
      },
      "source": [
        "import matplotlib.pyplot as plt\n",
        "\n",
        "plt.figure(figsize=(20,8))\n",
        "plt.plot(adanisfinal)\n",
        "plt.title('Adanis Close Price Per Day')\n",
        "plt.xlabel('Date')\n",
        "plt.ylabel('Price in $')\n",
        "plt.show()"
      ],
      "execution_count": null,
      "outputs": [
        {
          "output_type": "display_data",
          "data": {
            "image/png": "[encoded data removed]",
            "text/plain": [
              "<Figure size 1440x576 with 1 Axes>"
            ]
          },
          "metadata": {
            "tags": [],
            "needs_background": "light"
          }
        }
      ]
    },
    {
      "cell_type": "code",
      "metadata": {
        "id": "fVsLlX-l2EKn"
      },
      "source": [
        "#getting the data values\n",
        "date = df['Date'].values\n",
        "close = df['Close'].values"
      ],
      "execution_count": null,
      "outputs": []
    },
    {
      "cell_type": "code",
      "metadata": {
        "id": "7Ky4B7Vd2lsH"
      },
      "source": [
        "import tensorflow as tf\n",
        "\n",
        "def windowed_dataset(series, window_size, batch_size, shuffle_buffer):\n",
        "    series = tf.expand_dims(series, axis=-1)\n",
        "    ds = tf.data.Dataset.from_tensor_slices(series)\n",
        "    ds = ds.window(window_size + 1, shift=1, drop_remainder=True)\n",
        "    ds = ds.flat_map(lambda w: w.batch(window_size + 1))\n",
        "    ds = ds.shuffle(shuffle_buffer)\n",
        "    ds = ds.map(lambda w: (w[:-1], w[-1:]))\n",
        "    return ds.batch(batch_size).prefetch(1)"
      ],
      "execution_count": null,
      "outputs": []
    },
    {
      "cell_type": "code",
      "metadata": {
        "id": "OxExwY6G2pyv"
      },
      "source": [
        "from sklearn.model_selection import train_test_split\n",
        "\n",
        "x_train, x_test, y_train, y_test = train_test_split(close, date, test_size=0.2, random_state = 0, shuffle=False) #20% validation set"
      ],
      "execution_count": null,
      "outputs": []
    },
    {
      "cell_type": "code",
      "metadata": {
        "colab": {
          "base_uri": "https://localhost:8080/"
        },
        "id": "V-12489b4dWY",
        "outputId": "135c7791-81f2-4ce8-f10e-a1535d9f6d2e"
      },
      "source": [
        "print(len(x_train), len(x_test))"
      ],
      "execution_count": null,
      "outputs": [
        {
          "output_type": "stream",
          "text": [
            "2657 665\n"
          ],
          "name": "stdout"
        }
      ]
    },
    {
      "cell_type": "code",
      "metadata": {
        "id": "m2GvKUL_4t7i"
      },
      "source": [
        "#model\n",
        "from keras.layers import Dense, LSTM\n",
        "\n",
        "data_x_train = windowed_dataset(x_train, window_size=600, batch_size=100, shuffle_buffer=1800)\n",
        "data_x_test = windowed_dataset(x_test, window_size=600, batch_size=100, shuffle_buffer=1800)\n",
        "\n",
        "model = tf.keras.models.Sequential([\n",
        "                                    tf.keras.layers.Conv1D(filters=32, kernel_size=5, strides=1, padding=\"causal\",activation=\"relu\", input_shape=[None,1]),\n",
        "                                    tf.keras.layers.LSTM(64, return_sequences=True),\n",
        "                                    tf.keras.layers.LSTM(64, return_sequences=True),\n",
        "                                    tf.keras.layers.Dense(30, activation=\"relu\"),\n",
        "                                    tf.keras.layers.Dense(10, activation=\"relu\"),\n",
        "                                    tf.keras.layers.Dense(1),\n",
        "                                    tf.keras.layers.Lambda(lambda x: x * 400)\n",
        "])\n",
        "\n",
        "learning_rate_schedule = tf.keras.callbacks.LearningRateScheduler(\n",
        "    lambda epoch: 1e-8 * 10**(epoch / 20))\n",
        "optimizer = tf.keras.optimizers.SGD(learning_rate=1e-8, momentum=0.9)\n",
        "model.compile(loss=tf.keras.losses.Huber(),\n",
        "              optimizer=optimizer,\n",
        "              metrics=[\"mae\"])"
      ],
      "execution_count": null,
      "outputs": []
    },
    {
      "cell_type": "code",
      "metadata": {
        "colab": {
          "base_uri": "https://localhost:8080/"
        },
        "id": "88PRoIZI8HYI",
        "outputId": "7ccf03b8-cb20-4690-ed62-960605eb11a6"
      },
      "source": [
        "max = df['Close'].max()\n",
        "print('Max value : ')\n",
        "print(max)"
      ],
      "execution_count": null,
      "outputs": [
        {
          "output_type": "stream",
          "text": [
            "Max value : \n",
            "1307.45\n"
          ],
          "name": "stdout"
        }
      ]
    },
    {
      "cell_type": "code",
      "metadata": {
        "colab": {
          "base_uri": "https://localhost:8080/"
        },
        "id": "xPomO9n28Xbx",
        "outputId": "245f36e0-dbe8-43ca-b37e-0069d008ed5d"
      },
      "source": [
        "min = df['Close'].min()\n",
        "print('Min Value : ')\n",
        "print(min)"
      ],
      "execution_count": null,
      "outputs": [
        {
          "output_type": "stream",
          "text": [
            "Min Value : \n",
            "108.0\n"
          ],
          "name": "stdout"
        }
      ]
    },
    {
      "cell_type": "code",
      "metadata": {
        "colab": {
          "base_uri": "https://localhost:8080/"
        },
        "id": "xj0zP9ut8_ED",
        "outputId": "62edf49e-e48d-499a-c555-41b09c5c3eef"
      },
      "source": [
        "x = (max - min) * (10/100)\n",
        "print(x)"
      ],
      "execution_count": null,
      "outputs": [
        {
          "output_type": "stream",
          "text": [
            "119.94500000000001\n"
          ],
          "name": "stdout"
        }
      ]
    },
    {
      "cell_type": "code",
      "metadata": {
        "id": "0XAjTYHA8hUJ"
      },
      "source": [
        "#making a callback\n",
        "class myCallback(tf.keras.callbacks.Callback):\n",
        "  def on_epoch_end(self, epoch, logs={}):\n",
        "    if(logs.get('mae')< x):\n",
        "      self.model.stop_training = True\n",
        "      print(\"\\nMAE of the model < 10% of data scale\")\n",
        "callbacks = myCallback()"
      ],
      "execution_count": null,
      "outputs": []
    },
    {
      "cell_type": "code",
      "metadata": {
        "colab": {
          "base_uri": "https://localhost:8080/"
        },
        "id": "_21TQrpm8v56",
        "outputId": "b51b0fac-e1d6-4e1e-bb3e-9df521b51776"
      },
      "source": [
        "tf.keras.backend.set_floatx('float64')\n",
        "history = model.fit(data_x_train ,epochs=500, validation_data=data_x_test, callbacks=[callbacks])\n"
      ],
      "execution_count": null,
      "outputs": [
        {
          "output_type": "stream",
          "text": [
            "Epoch 1/500\n",
            "21/21 [==============================] - 37s 120ms/step - loss: 356.3314 - mae: 356.8314 - val_loss: 747.8495 - val_mae: 748.3496\n",
            "Epoch 2/500\n",
            "21/21 [==============================] - 2s 56ms/step - loss: 320.2596 - mae: 320.7595 - val_loss: 721.3674 - val_mae: 721.8674\n",
            "Epoch 3/500\n",
            "21/21 [==============================] - 2s 51ms/step - loss: 289.7232 - mae: 290.2232 - val_loss: 695.8096 - val_mae: 696.3096\n",
            "Epoch 4/500\n",
            "21/21 [==============================] - 2s 51ms/step - loss: 246.2369 - mae: 246.7369 - val_loss: 667.1818 - val_mae: 667.6818\n",
            "Epoch 5/500\n",
            "21/21 [==============================] - 2s 52ms/step - loss: 220.3714 - mae: 220.8714 - val_loss: 631.3521 - val_mae: 631.8521\n",
            "Epoch 6/500\n",
            "21/21 [==============================] - 2s 52ms/step - loss: 206.1013 - mae: 206.6013 - val_loss: 624.9908 - val_mae: 625.4909\n",
            "Epoch 7/500\n",
            "21/21 [==============================] - 2s 51ms/step - loss: 199.5886 - mae: 200.0886 - val_loss: 619.0605 - val_mae: 619.5605\n",
            "Epoch 8/500\n",
            "21/21 [==============================] - 2s 53ms/step - loss: 193.2789 - mae: 193.7789 - val_loss: 613.2452 - val_mae: 613.7453\n",
            "Epoch 9/500\n",
            "21/21 [==============================] - 2s 53ms/step - loss: 187.1633 - mae: 187.6633 - val_loss: 607.5265 - val_mae: 608.0265\n",
            "Epoch 10/500\n",
            "21/21 [==============================] - 2s 52ms/step - loss: 181.3006 - mae: 181.8006 - val_loss: 601.9293 - val_mae: 602.4292\n",
            "Epoch 11/500\n",
            "21/21 [==============================] - 2s 53ms/step - loss: 175.6075 - mae: 176.1075 - val_loss: 596.5039 - val_mae: 597.0039\n",
            "Epoch 12/500\n",
            "21/21 [==============================] - 2s 53ms/step - loss: 170.2720 - mae: 170.7720 - val_loss: 592.3504 - val_mae: 592.8504\n",
            "Epoch 13/500\n",
            "21/21 [==============================] - 2s 52ms/step - loss: 166.1029 - mae: 166.6029 - val_loss: 589.2480 - val_mae: 589.7480\n",
            "Epoch 14/500\n",
            "21/21 [==============================] - 2s 52ms/step - loss: 162.7038 - mae: 163.2038 - val_loss: 585.5167 - val_mae: 586.0167\n",
            "Epoch 15/500\n",
            "21/21 [==============================] - 2s 52ms/step - loss: 159.2877 - mae: 159.7877 - val_loss: 582.1644 - val_mae: 582.6644\n",
            "Epoch 16/500\n",
            "21/21 [==============================] - 2s 52ms/step - loss: 155.9483 - mae: 156.4483 - val_loss: 579.0150 - val_mae: 579.5150\n",
            "Epoch 17/500\n",
            "21/21 [==============================] - 2s 52ms/step - loss: 152.7180 - mae: 153.2180 - val_loss: 575.9244 - val_mae: 576.4243\n",
            "Epoch 18/500\n",
            "21/21 [==============================] - 2s 52ms/step - loss: 149.5988 - mae: 150.0985 - val_loss: 572.9745 - val_mae: 573.4746\n",
            "Epoch 19/500\n",
            "21/21 [==============================] - 2s 53ms/step - loss: 146.5577 - mae: 147.0575 - val_loss: 570.1757 - val_mae: 570.6757\n",
            "Epoch 20/500\n",
            "21/21 [==============================] - 2s 53ms/step - loss: 143.5036 - mae: 144.0032 - val_loss: 567.4211 - val_mae: 567.9211\n",
            "Epoch 21/500\n",
            "21/21 [==============================] - 2s 52ms/step - loss: 140.5044 - mae: 141.0035 - val_loss: 564.5983 - val_mae: 565.0982\n",
            "Epoch 22/500\n",
            "21/21 [==============================] - 2s 53ms/step - loss: 137.6091 - mae: 138.1074 - val_loss: 561.7374 - val_mae: 562.2374\n",
            "Epoch 23/500\n",
            "21/21 [==============================] - 2s 52ms/step - loss: 134.7814 - mae: 135.2796 - val_loss: 558.8182 - val_mae: 559.3181\n",
            "Epoch 24/500\n",
            "21/21 [==============================] - 2s 52ms/step - loss: 132.0456 - mae: 132.5435 - val_loss: 555.8805 - val_mae: 556.3805\n",
            "Epoch 25/500\n",
            "21/21 [==============================] - 2s 51ms/step - loss: 129.5408 - mae: 130.0383 - val_loss: 553.1037 - val_mae: 553.6037\n",
            "Epoch 26/500\n",
            "21/21 [==============================] - 2s 53ms/step - loss: 127.4636 - mae: 127.9608 - val_loss: 550.5231 - val_mae: 551.0231\n",
            "Epoch 27/500\n",
            "21/21 [==============================] - 2s 52ms/step - loss: 125.6422 - mae: 126.1396 - val_loss: 548.1520 - val_mae: 548.6520\n",
            "Epoch 28/500\n",
            "21/21 [==============================] - 2s 53ms/step - loss: 123.9852 - mae: 124.4823 - val_loss: 545.8753 - val_mae: 546.3752\n",
            "Epoch 29/500\n",
            "21/21 [==============================] - 2s 52ms/step - loss: 122.4273 - mae: 122.9235 - val_loss: 543.6191 - val_mae: 544.1191\n",
            "Epoch 30/500\n",
            "21/21 [==============================] - 2s 53ms/step - loss: 120.9570 - mae: 121.4524 - val_loss: 541.3325 - val_mae: 541.8325\n",
            "Epoch 31/500\n",
            "21/21 [==============================] - 2s 55ms/step - loss: 119.5523 - mae: 120.0478 - val_loss: 539.0689 - val_mae: 539.5689\n",
            "Epoch 32/500\n",
            "21/21 [==============================] - 2s 53ms/step - loss: 118.2853 - mae: 118.7806 - val_loss: 536.7787 - val_mae: 537.2787\n",
            "\n",
            "MAE of the model < 10% of data scale\n"
          ],
          "name": "stdout"
        }
      ]
    },
    {
      "cell_type": "code",
      "metadata": {
        "id": "DT4Fg6LG_i1h",
        "colab": {
          "base_uri": "https://localhost:8080/",
          "height": 295
        },
        "outputId": "c29b3a99-51a6-4e12-e542-53e396e2ddb9"
      },
      "source": [
        "#plot of MAE\n",
        "import matplotlib.pyplot as plt\n",
        "plt.plot(history.history['mae'])\n",
        "plt.plot(history.history['val_mae'])\n",
        "plt.title('MAE')\n",
        "plt.ylabel('mae')\n",
        "plt.xlabel('epoch')\n",
        "plt.legend(['train', 'test'], loc='upper right')\n",
        "plt.show()"
      ],
      "execution_count": null,
      "outputs": [
        {
          "output_type": "display_data",
          "data": {
            "image/png": "[encoded data removed]",
            "text/plain": [
              "<Figure size 432x288 with 1 Axes>"
            ]
          },
          "metadata": {
            "tags": [],
            "needs_background": "light"
          }
        }
      ]
    },
    {
      "cell_type": "code",
      "metadata": {
        "colab": {
          "base_uri": "https://localhost:8080/",
          "height": 295
        },
        "id": "Nc8OORfg4USa",
        "outputId": "9b47ac25-8881-46a6-af6f-e202f49cf2c7"
      },
      "source": [
        "#plot of loss\n",
        "import matplotlib.pyplot as plt\n",
        "plt.plot(history.history['loss'])\n",
        "plt.plot(history.history['val_loss'])\n",
        "plt.title('LOSS')\n",
        "plt.ylabel('loss')\n",
        "plt.xlabel('epoch')\n",
        "plt.legend(['train', 'test'], loc='upper right')\n",
        "plt.show()"
      ],
      "execution_count": null,
      "outputs": [
        {
          "output_type": "display_data",
          "data": {
            "image/png": "[encoded data removed]",
            "text/plain": [
              "<Figure size 432x288 with 1 Axes>"
            ]
          },
          "metadata": {
            "tags": [],
            "needs_background": "light"
          }
        }
      ]
    }
  ]
}